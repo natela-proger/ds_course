{
 "cells": [
  {
   "cell_type": "markdown",
   "metadata": {},
   "source": [
    "Задание выполнила Кордзахия Натела (БЭК181)"
   ]
  },
  {
   "cell_type": "code",
   "execution_count": 106,
   "metadata": {},
   "outputs": [],
   "source": [
    "import pandas as pd\n",
    "import requests\n",
    "from bs4 import BeautifulSoup\n",
    "import numpy as np\n",
    "import numpy.random\n",
    "# Модули для визуализации\n",
    "import matplotlib.pyplot as plt\n",
    "%matplotlib inline\n",
    "# %matplotlib notebook\n",
    "import seaborn as sns\n",
    "import plotly\n",
    "import plotly.express as px\n",
    "import scipy.stats as sts\n",
    "plt.style.use('ggplot')\n",
    "%matplotlib inline\n",
    "from tqdm import tqdm_notebook  "
   ]
  },
  {
   "cell_type": "markdown",
   "metadata": {},
   "source": [
    "# Добро пожаловать в прекрасный мир данных, которые я использовала для своего курсача\n",
    "\n",
    "### Так уж сложилось, что я решила делать большое исследование, связанное с кинематографом и Голливудом. Тема моей курсовой: \"Голливуд как бренд: факторы, формирующие стоимость в современной киноиндустрии\". В этой работе я анализировала различные данные, взятые с сайта  www.the-numbers.com, и один из датасетов, которые я делалаа, я хотела бы показать и вам.\n",
    "\n",
    "# ИТАК НАЧНЕМ!"
   ]
  },
  {
   "cell_type": "markdown",
   "metadata": {},
   "source": [
    "Поговорим о дистрибьютерах кинофильмов: чаще всего ими являются сами кинокомпании и их дочерние фирмы (например, у Дисней дочерные кинокомпании - это Марвел и ЛукасФильм). Так давайте скачаем те данные, которые предоставляет нам сайт  www.the-numbers.com для дистрибьютеров. \n",
    "\n",
    "Пам-пам -- вот и парсер (я не гений Питона поэтому тут циклы, зато все четенько и красиво в самом датасете)"
   ]
  },
  {
   "cell_type": "code",
   "execution_count": 107,
   "metadata": {},
   "outputs": [],
   "source": [
    "def parser(year):\n",
    "    url = 'https://www.the-numbers.com/market/{}/distributors'.format(year)\n",
    "    res = requests.get(url)\n",
    "    html = res.content\n",
    "    tree = BeautifulSoup(html, 'html.parser')\n",
    "    dists = tree.find_all('td')[3:]\n",
    "    places = dists[::6]\n",
    "    name = dists[1::6]\n",
    "    movies = dists[2::6]\n",
    "    gross = dists[3::6]\n",
    "    tickets = dists[4::6]\n",
    "    percent = dists[5::6]\n",
    "    infa = []\n",
    "    for i in range(len(places)):\n",
    "        a = places[i].text.strip()\n",
    "        b = name[i].text.strip()\n",
    "        c = movies[i].text.strip()\n",
    "        d = gross [i].text.strip()\n",
    "        e = tickets[i].text.strip()\n",
    "        g = percent[i].text.strip()\n",
    "        infa.append({'Рейтинг': a,\n",
    "                     'Компания':b,\n",
    "                     'Кол-во фильмов': c,\n",
    "                     'Box office': d,\n",
    "                     'Кол-во билетов': e,\n",
    "                     'Процент от общего кол-ва': g,\n",
    "                     'Год': year})\n",
    "    \n",
    "    df = pd.DataFrame(infa)\n",
    "    return df"
   ]
  },
  {
   "cell_type": "markdown",
   "metadata": {},
   "source": [
    "Данный парсер скачивает табличку с сайта. Но нам для анализа понадобиться чуть больше табличек. Так давайте скачаем все за последние 25 лет (более ранних данных в сайте нет)."
   ]
  },
  {
   "cell_type": "code",
   "execution_count": 108,
   "metadata": {},
   "outputs": [],
   "source": [
    "def pparser(begin, end):\n",
    "    a = parser(begin)\n",
    "    for year in tqdm_notebook(range(begin + 1, end, 1)):\n",
    "        b = parser(year)\n",
    "        res = pd.concat([a, b], ignore_index=True)\n",
    "        a = res\n",
    "    return a"
   ]
  },
  {
   "cell_type": "code",
   "execution_count": 109,
   "metadata": {},
   "outputs": [
    {
     "data": {
      "application/vnd.jupyter.widget-view+json": {
       "model_id": "6384581a45964f8bb5b3cc0f05dd10df",
       "version_major": 2,
       "version_minor": 0
      },
      "text/plain": [
       "HBox(children=(IntProgress(value=0, max=24), HTML(value='')))"
      ]
     },
     "metadata": {},
     "output_type": "display_data"
    },
    {
     "name": "stdout",
     "output_type": "stream",
     "text": [
      "\n"
     ]
    },
    {
     "data": {
      "text/html": [
       "<div>\n",
       "<style scoped>\n",
       "    .dataframe tbody tr th:only-of-type {\n",
       "        vertical-align: middle;\n",
       "    }\n",
       "\n",
       "    .dataframe tbody tr th {\n",
       "        vertical-align: top;\n",
       "    }\n",
       "\n",
       "    .dataframe thead th {\n",
       "        text-align: right;\n",
       "    }\n",
       "</style>\n",
       "<table border=\"1\" class=\"dataframe\">\n",
       "  <thead>\n",
       "    <tr style=\"text-align: right;\">\n",
       "      <th></th>\n",
       "      <th>Рейтинг</th>\n",
       "      <th>Компания</th>\n",
       "      <th>Кол-во фильмов</th>\n",
       "      <th>Box office</th>\n",
       "      <th>Кол-во билетов</th>\n",
       "      <th>Процент от общего кол-ва</th>\n",
       "      <th>Год</th>\n",
       "    </tr>\n",
       "  </thead>\n",
       "  <tbody>\n",
       "    <tr>\n",
       "      <td>0</td>\n",
       "      <td>1</td>\n",
       "      <td>Walt Disney</td>\n",
       "      <td>38</td>\n",
       "      <td>$1,012,034,105</td>\n",
       "      <td>232,651,499</td>\n",
       "      <td>19.04%</td>\n",
       "      <td>1995</td>\n",
       "    </tr>\n",
       "    <tr>\n",
       "      <td>1</td>\n",
       "      <td>2</td>\n",
       "      <td>Warner Bros.</td>\n",
       "      <td>31</td>\n",
       "      <td>$866,884,482</td>\n",
       "      <td>199,283,775</td>\n",
       "      <td>16.31%</td>\n",
       "      <td>1995</td>\n",
       "    </tr>\n",
       "    <tr>\n",
       "      <td>2</td>\n",
       "      <td>3</td>\n",
       "      <td>Sony Pictures</td>\n",
       "      <td>31</td>\n",
       "      <td>$682,169,140</td>\n",
       "      <td>156,820,477</td>\n",
       "      <td>12.84%</td>\n",
       "      <td>1995</td>\n",
       "    </tr>\n",
       "    <tr>\n",
       "      <td>3</td>\n",
       "      <td>4</td>\n",
       "      <td>Universal</td>\n",
       "      <td>21</td>\n",
       "      <td>$666,656,425</td>\n",
       "      <td>153,254,338</td>\n",
       "      <td>12.54%</td>\n",
       "      <td>1995</td>\n",
       "    </tr>\n",
       "    <tr>\n",
       "      <td>4</td>\n",
       "      <td>5</td>\n",
       "      <td>Paramount Pictures</td>\n",
       "      <td>21</td>\n",
       "      <td>$529,884,404</td>\n",
       "      <td>121,812,497</td>\n",
       "      <td>9.97%</td>\n",
       "      <td>1995</td>\n",
       "    </tr>\n",
       "    <tr>\n",
       "      <td>...</td>\n",
       "      <td>...</td>\n",
       "      <td>...</td>\n",
       "      <td>...</td>\n",
       "      <td>...</td>\n",
       "      <td>...</td>\n",
       "      <td>...</td>\n",
       "      <td>...</td>\n",
       "    </tr>\n",
       "    <tr>\n",
       "      <td>2844</td>\n",
       "      <td>125</td>\n",
       "      <td>International Film Circuit</td>\n",
       "      <td>1</td>\n",
       "      <td>$5,006</td>\n",
       "      <td>549</td>\n",
       "      <td>0.00%</td>\n",
       "      <td>2019</td>\n",
       "    </tr>\n",
       "    <tr>\n",
       "      <td>2845</td>\n",
       "      <td>126</td>\n",
       "      <td>Shout! Factory</td>\n",
       "      <td>1</td>\n",
       "      <td>$4,332</td>\n",
       "      <td>475</td>\n",
       "      <td>0.00%</td>\n",
       "      <td>2019</td>\n",
       "    </tr>\n",
       "    <tr>\n",
       "      <td>2846</td>\n",
       "      <td>127</td>\n",
       "      <td>Sumbadhat Productions</td>\n",
       "      <td>1</td>\n",
       "      <td>$3,919</td>\n",
       "      <td>430</td>\n",
       "      <td>0.00%</td>\n",
       "      <td>2019</td>\n",
       "    </tr>\n",
       "    <tr>\n",
       "      <td>2847</td>\n",
       "      <td>128</td>\n",
       "      <td>Producers Releasing Corporation</td>\n",
       "      <td>1</td>\n",
       "      <td>$1,540</td>\n",
       "      <td>169</td>\n",
       "      <td>0.00%</td>\n",
       "      <td>2019</td>\n",
       "    </tr>\n",
       "    <tr>\n",
       "      <td>2848</td>\n",
       "      <td>129</td>\n",
       "      <td>Fleetwood Films</td>\n",
       "      <td>1</td>\n",
       "      <td>$437</td>\n",
       "      <td>47</td>\n",
       "      <td>0.00%</td>\n",
       "      <td>2019</td>\n",
       "    </tr>\n",
       "  </tbody>\n",
       "</table>\n",
       "<p>2849 rows × 7 columns</p>\n",
       "</div>"
      ],
      "text/plain": [
       "     Рейтинг                         Компания Кол-во фильмов      Box office  \\\n",
       "0          1                      Walt Disney             38  $1,012,034,105   \n",
       "1          2                     Warner Bros.             31    $866,884,482   \n",
       "2          3                    Sony Pictures             31    $682,169,140   \n",
       "3          4                        Universal             21    $666,656,425   \n",
       "4          5               Paramount Pictures             21    $529,884,404   \n",
       "...      ...                              ...            ...             ...   \n",
       "2844     125       International Film Circuit              1          $5,006   \n",
       "2845     126                   Shout! Factory              1          $4,332   \n",
       "2846     127            Sumbadhat Productions              1          $3,919   \n",
       "2847     128  Producers Releasing Corporation              1          $1,540   \n",
       "2848     129                  Fleetwood Films              1            $437   \n",
       "\n",
       "     Кол-во билетов Процент от общего кол-ва   Год  \n",
       "0       232,651,499                   19.04%  1995  \n",
       "1       199,283,775                   16.31%  1995  \n",
       "2       156,820,477                   12.84%  1995  \n",
       "3       153,254,338                   12.54%  1995  \n",
       "4       121,812,497                    9.97%  1995  \n",
       "...             ...                      ...   ...  \n",
       "2844            549                    0.00%  2019  \n",
       "2845            475                    0.00%  2019  \n",
       "2846            430                    0.00%  2019  \n",
       "2847            169                    0.00%  2019  \n",
       "2848             47                    0.00%  2019  \n",
       "\n",
       "[2849 rows x 7 columns]"
      ]
     },
     "execution_count": 109,
     "metadata": {},
     "output_type": "execute_result"
    }
   ],
   "source": [
    "df = pparser(1995, 2020)\n",
    "df"
   ]
  },
  {
   "cell_type": "markdown",
   "metadata": {},
   "source": [
    "Уху, класс! Мы получили данные за 20 лет по всем дистрибьютерам, представленных на сайте. Но что же тут творится? Все не так-то просто, в датасете начиная с каждого нового года компании повторяются, и каждый год в табличке присутствуют разные компании. Исходя из всех тех длинных скучных выводов, которые я делала в своем курсаче, в таблице присутсвуют данные по Major 6 за каждый год. Что такое Major 6? Это 6 главных кинокомпании в мире, которые поставляют самое большое количество фильмов в год, обладают самыми большими бюджетами и получают самые большие кассовые сборы. Этими компаниями являются Universal Pictures, Paramount Pictures, Warner Bros. Pictures, Walt Disney Pictures, Columbia Pictures и 20th Century Studios (в марте прошлого года она стала часть Walt Disney, но пока что во всех датасетах представлена отдельно). Давайте проверим, как часто за период с 2000 по 2020 года встречаются все кинокомпании"
   ]
  },
  {
   "cell_type": "code",
   "execution_count": 110,
   "metadata": {},
   "outputs": [
    {
     "data": {
      "text/plain": [
       "Sony Pictures             25\n",
       "Universal                 25\n",
       "Warner Bros.              25\n",
       "Walt Disney               25\n",
       "Strand                    25\n",
       "Fox Searchlight           25\n",
       "20th Century Fox          25\n",
       "Sony Pictures Classics    25\n",
       "Paramount Pictures        25\n",
       "Lionsgate                 24\n",
       "Zeitgeist                 23\n",
       "First Run Features        23\n",
       "IMAX Films                22\n",
       "Rialto Pictures           21\n",
       "MGM                       21\n",
       "Eros Entertainment        20\n",
       "Focus Features            20\n",
       "Indican Pictures          20\n",
       "New Yorker                19\n",
       "IFC Films                 19\n",
       "Name: Компания, dtype: int64"
      ]
     },
     "execution_count": 110,
     "metadata": {},
     "output_type": "execute_result"
    }
   ],
   "source": [
    "df['Компания'].value_counts()[:20]"
   ]
  },
  {
   "cell_type": "markdown",
   "metadata": {},
   "source": [
    "Что и требоваалось доказать"
   ]
  },
  {
   "cell_type": "markdown",
   "metadata": {},
   "source": [
    "Для того, чтобы можно было хорошо работать с датасетом, необходимо проверить, какие значения в нем отсуствуют. Сделаем это через красивую функцию, которую я писала для дз2"
   ]
  },
  {
   "cell_type": "code",
   "execution_count": 111,
   "metadata": {},
   "outputs": [
    {
     "name": "stdout",
     "output_type": "stream",
     "text": [
      "Empty DataFrame\n",
      "Columns: [Кол-во пропущенных значений,      % от общего количества]\n",
      "Index: []\n"
     ]
    }
   ],
   "source": [
    "def mis_val_table(df):\n",
    "        mis_val = df.isnull().sum()\n",
    "        mis_val_percent = 100 * df.isnull().sum() / len(df)\n",
    "        table = pd.concat([mis_val, mis_val_percent], axis=1, \n",
    "                          keys=['Кол-во пропущенных значений','     % от общего количества'])\n",
    "        return table[table.iloc[:,1] != 0]\n",
    "print(mis_val_table(df))"
   ]
  },
  {
   "cell_type": "markdown",
   "metadata": {},
   "source": [
    "Так, неожидано, давайте еще по-другому"
   ]
  },
  {
   "cell_type": "code",
   "execution_count": 112,
   "metadata": {},
   "outputs": [
    {
     "data": {
      "text/plain": [
       "Рейтинг                     0\n",
       "Компания                    0\n",
       "Кол-во фильмов              0\n",
       "Box office                  0\n",
       "Кол-во билетов              0\n",
       "Процент от общего кол-ва    0\n",
       "Год                         0\n",
       "dtype: int64"
      ]
     },
     "execution_count": 112,
     "metadata": {},
     "output_type": "execute_result"
    }
   ],
   "source": [
    "df.isnull().sum()"
   ]
  },
  {
   "cell_type": "markdown",
   "metadata": {},
   "source": [
    "Какой милый датасет я спарсила, в нем нет пропусков! Но обработать я его все равно хочу. Я более чем уверена, что внутри лежат значения, которые достаточно маленькие и на общую картину не повляют. Давайте считать, что такие значения в этом таблице можно вычислить по проценту из общего количества и скажем, что компании, общий процент которых равен 0% вообще нам не нужны. "
   ]
  },
  {
   "cell_type": "code",
   "execution_count": 113,
   "metadata": {},
   "outputs": [
    {
     "data": {
      "text/html": [
       "<div>\n",
       "<style scoped>\n",
       "    .dataframe tbody tr th:only-of-type {\n",
       "        vertical-align: middle;\n",
       "    }\n",
       "\n",
       "    .dataframe tbody tr th {\n",
       "        vertical-align: top;\n",
       "    }\n",
       "\n",
       "    .dataframe thead th {\n",
       "        text-align: right;\n",
       "    }\n",
       "</style>\n",
       "<table border=\"1\" class=\"dataframe\">\n",
       "  <thead>\n",
       "    <tr style=\"text-align: right;\">\n",
       "      <th></th>\n",
       "      <th>Рейтинг</th>\n",
       "      <th>Компания</th>\n",
       "      <th>Кол-во фильмов</th>\n",
       "      <th>Box office</th>\n",
       "      <th>Кол-во билетов</th>\n",
       "      <th>Процент от общего кол-ва</th>\n",
       "      <th>Год</th>\n",
       "    </tr>\n",
       "  </thead>\n",
       "  <tbody>\n",
       "    <tr>\n",
       "      <td>0</td>\n",
       "      <td>1</td>\n",
       "      <td>Walt Disney</td>\n",
       "      <td>38</td>\n",
       "      <td>$1,012,034,105</td>\n",
       "      <td>232,651,499</td>\n",
       "      <td>19.04%</td>\n",
       "      <td>1995</td>\n",
       "    </tr>\n",
       "    <tr>\n",
       "      <td>1</td>\n",
       "      <td>2</td>\n",
       "      <td>Warner Bros.</td>\n",
       "      <td>31</td>\n",
       "      <td>$866,884,482</td>\n",
       "      <td>199,283,775</td>\n",
       "      <td>16.31%</td>\n",
       "      <td>1995</td>\n",
       "    </tr>\n",
       "    <tr>\n",
       "      <td>2</td>\n",
       "      <td>3</td>\n",
       "      <td>Sony Pictures</td>\n",
       "      <td>31</td>\n",
       "      <td>$682,169,140</td>\n",
       "      <td>156,820,477</td>\n",
       "      <td>12.84%</td>\n",
       "      <td>1995</td>\n",
       "    </tr>\n",
       "    <tr>\n",
       "      <td>3</td>\n",
       "      <td>4</td>\n",
       "      <td>Universal</td>\n",
       "      <td>21</td>\n",
       "      <td>$666,656,425</td>\n",
       "      <td>153,254,338</td>\n",
       "      <td>12.54%</td>\n",
       "      <td>1995</td>\n",
       "    </tr>\n",
       "    <tr>\n",
       "      <td>4</td>\n",
       "      <td>5</td>\n",
       "      <td>Paramount Pictures</td>\n",
       "      <td>21</td>\n",
       "      <td>$529,884,404</td>\n",
       "      <td>121,812,497</td>\n",
       "      <td>9.97%</td>\n",
       "      <td>1995</td>\n",
       "    </tr>\n",
       "    <tr>\n",
       "      <td>...</td>\n",
       "      <td>...</td>\n",
       "      <td>...</td>\n",
       "      <td>...</td>\n",
       "      <td>...</td>\n",
       "      <td>...</td>\n",
       "      <td>...</td>\n",
       "      <td>...</td>\n",
       "    </tr>\n",
       "    <tr>\n",
       "      <td>2781</td>\n",
       "      <td>62</td>\n",
       "      <td>1091 Media</td>\n",
       "      <td>5</td>\n",
       "      <td>$734,336</td>\n",
       "      <td>80,605</td>\n",
       "      <td>0.01%</td>\n",
       "      <td>2019</td>\n",
       "    </tr>\n",
       "    <tr>\n",
       "      <td>2782</td>\n",
       "      <td>63</td>\n",
       "      <td>ESX Entertainment</td>\n",
       "      <td>1</td>\n",
       "      <td>$725,042</td>\n",
       "      <td>79,587</td>\n",
       "      <td>0.01%</td>\n",
       "      <td>2019</td>\n",
       "    </tr>\n",
       "    <tr>\n",
       "      <td>2783</td>\n",
       "      <td>64</td>\n",
       "      <td>Briarcliffe Entertainment</td>\n",
       "      <td>1</td>\n",
       "      <td>$700,261</td>\n",
       "      <td>76,867</td>\n",
       "      <td>0.01%</td>\n",
       "      <td>2019</td>\n",
       "    </tr>\n",
       "    <tr>\n",
       "      <td>2784</td>\n",
       "      <td>65</td>\n",
       "      <td>Mongrel Media</td>\n",
       "      <td>1</td>\n",
       "      <td>$650,565</td>\n",
       "      <td>71,412</td>\n",
       "      <td>0.01%</td>\n",
       "      <td>2019</td>\n",
       "    </tr>\n",
       "    <tr>\n",
       "      <td>2785</td>\n",
       "      <td>66</td>\n",
       "      <td>PBS Distribution</td>\n",
       "      <td>2</td>\n",
       "      <td>$644,450</td>\n",
       "      <td>70,740</td>\n",
       "      <td>0.01%</td>\n",
       "      <td>2019</td>\n",
       "    </tr>\n",
       "  </tbody>\n",
       "</table>\n",
       "<p>1375 rows × 7 columns</p>\n",
       "</div>"
      ],
      "text/plain": [
       "     Рейтинг                   Компания Кол-во фильмов      Box office  \\\n",
       "0          1                Walt Disney             38  $1,012,034,105   \n",
       "1          2               Warner Bros.             31    $866,884,482   \n",
       "2          3              Sony Pictures             31    $682,169,140   \n",
       "3          4                  Universal             21    $666,656,425   \n",
       "4          5         Paramount Pictures             21    $529,884,404   \n",
       "...      ...                        ...            ...             ...   \n",
       "2781      62                 1091 Media              5        $734,336   \n",
       "2782      63          ESX Entertainment              1        $725,042   \n",
       "2783      64  Briarcliffe Entertainment              1        $700,261   \n",
       "2784      65              Mongrel Media              1        $650,565   \n",
       "2785      66           PBS Distribution              2        $644,450   \n",
       "\n",
       "     Кол-во билетов Процент от общего кол-ва   Год  \n",
       "0       232,651,499                   19.04%  1995  \n",
       "1       199,283,775                   16.31%  1995  \n",
       "2       156,820,477                   12.84%  1995  \n",
       "3       153,254,338                   12.54%  1995  \n",
       "4       121,812,497                    9.97%  1995  \n",
       "...             ...                      ...   ...  \n",
       "2781         80,605                    0.01%  2019  \n",
       "2782         79,587                    0.01%  2019  \n",
       "2783         76,867                    0.01%  2019  \n",
       "2784         71,412                    0.01%  2019  \n",
       "2785         70,740                    0.01%  2019  \n",
       "\n",
       "[1375 rows x 7 columns]"
      ]
     },
     "execution_count": 113,
     "metadata": {},
     "output_type": "execute_result"
    }
   ],
   "source": [
    "df = df.loc[df['Процент от общего кол-ва'] != '0.00%']\n",
    "df"
   ]
  },
  {
   "cell_type": "markdown",
   "metadata": {},
   "source": [
    "Ого, количество строк в датасете уменьшилось вдвое."
   ]
  },
  {
   "cell_type": "markdown",
   "metadata": {},
   "source": [
    "Давайте придумаем какие-нибудь классные новые значения!\n",
    "\n",
    "Например - среднюю количество посетителей фильмов разных компаниф каждый год. Просто возьмем и разделим кол-во билетов на кол-во фильмов\n",
    "и поймем, на фильмы какой компании в среднем ходит больше людей"
   ]
  },
  {
   "cell_type": "code",
   "execution_count": 114,
   "metadata": {},
   "outputs": [
    {
     "data": {
      "text/html": [
       "<div>\n",
       "<style scoped>\n",
       "    .dataframe tbody tr th:only-of-type {\n",
       "        vertical-align: middle;\n",
       "    }\n",
       "\n",
       "    .dataframe tbody tr th {\n",
       "        vertical-align: top;\n",
       "    }\n",
       "\n",
       "    .dataframe thead th {\n",
       "        text-align: right;\n",
       "    }\n",
       "</style>\n",
       "<table border=\"1\" class=\"dataframe\">\n",
       "  <thead>\n",
       "    <tr style=\"text-align: right;\">\n",
       "      <th></th>\n",
       "      <th>Рейтинг</th>\n",
       "      <th>Компания</th>\n",
       "      <th>Кол-во фильмов</th>\n",
       "      <th>Box office</th>\n",
       "      <th>Кол-во билетов</th>\n",
       "      <th>Процент от общего кол-ва</th>\n",
       "      <th>Год</th>\n",
       "    </tr>\n",
       "  </thead>\n",
       "  <tbody>\n",
       "    <tr>\n",
       "      <td>0</td>\n",
       "      <td>1</td>\n",
       "      <td>Walt Disney</td>\n",
       "      <td>38</td>\n",
       "      <td>$1,012,034,105</td>\n",
       "      <td>232,651,499</td>\n",
       "      <td>19.04%</td>\n",
       "      <td>1995</td>\n",
       "    </tr>\n",
       "    <tr>\n",
       "      <td>1</td>\n",
       "      <td>2</td>\n",
       "      <td>Warner Bros.</td>\n",
       "      <td>31</td>\n",
       "      <td>$866,884,482</td>\n",
       "      <td>199,283,775</td>\n",
       "      <td>16.31%</td>\n",
       "      <td>1995</td>\n",
       "    </tr>\n",
       "    <tr>\n",
       "      <td>2</td>\n",
       "      <td>3</td>\n",
       "      <td>Sony Pictures</td>\n",
       "      <td>31</td>\n",
       "      <td>$682,169,140</td>\n",
       "      <td>156,820,477</td>\n",
       "      <td>12.84%</td>\n",
       "      <td>1995</td>\n",
       "    </tr>\n",
       "    <tr>\n",
       "      <td>3</td>\n",
       "      <td>4</td>\n",
       "      <td>Universal</td>\n",
       "      <td>21</td>\n",
       "      <td>$666,656,425</td>\n",
       "      <td>153,254,338</td>\n",
       "      <td>12.54%</td>\n",
       "      <td>1995</td>\n",
       "    </tr>\n",
       "    <tr>\n",
       "      <td>4</td>\n",
       "      <td>5</td>\n",
       "      <td>Paramount Pictures</td>\n",
       "      <td>21</td>\n",
       "      <td>$529,884,404</td>\n",
       "      <td>121,812,497</td>\n",
       "      <td>9.97%</td>\n",
       "      <td>1995</td>\n",
       "    </tr>\n",
       "    <tr>\n",
       "      <td>5</td>\n",
       "      <td>6</td>\n",
       "      <td>20th Century Fox</td>\n",
       "      <td>15</td>\n",
       "      <td>$410,787,635</td>\n",
       "      <td>94,433,933</td>\n",
       "      <td>7.73%</td>\n",
       "      <td>1995</td>\n",
       "    </tr>\n",
       "    <tr>\n",
       "      <td>6</td>\n",
       "      <td>7</td>\n",
       "      <td>MGM</td>\n",
       "      <td>19</td>\n",
       "      <td>$333,155,248</td>\n",
       "      <td>76,587,403</td>\n",
       "      <td>6.27%</td>\n",
       "      <td>1995</td>\n",
       "    </tr>\n",
       "    <tr>\n",
       "      <td>7</td>\n",
       "      <td>8</td>\n",
       "      <td>New Line</td>\n",
       "      <td>16</td>\n",
       "      <td>$331,897,897</td>\n",
       "      <td>76,298,359</td>\n",
       "      <td>6.25%</td>\n",
       "      <td>1995</td>\n",
       "    </tr>\n",
       "    <tr>\n",
       "      <td>8</td>\n",
       "      <td>9</td>\n",
       "      <td>Miramax</td>\n",
       "      <td>38</td>\n",
       "      <td>$186,292,656</td>\n",
       "      <td>42,825,880</td>\n",
       "      <td>3.51%</td>\n",
       "      <td>1995</td>\n",
       "    </tr>\n",
       "    <tr>\n",
       "      <td>9</td>\n",
       "      <td>10</td>\n",
       "      <td>Savoy</td>\n",
       "      <td>9</td>\n",
       "      <td>$65,459,506</td>\n",
       "      <td>15,048,158</td>\n",
       "      <td>1.23%</td>\n",
       "      <td>1995</td>\n",
       "    </tr>\n",
       "  </tbody>\n",
       "</table>\n",
       "</div>"
      ],
      "text/plain": [
       "  Рейтинг            Компания Кол-во фильмов      Box office Кол-во билетов  \\\n",
       "0       1         Walt Disney             38  $1,012,034,105    232,651,499   \n",
       "1       2        Warner Bros.             31    $866,884,482    199,283,775   \n",
       "2       3       Sony Pictures             31    $682,169,140    156,820,477   \n",
       "3       4           Universal             21    $666,656,425    153,254,338   \n",
       "4       5  Paramount Pictures             21    $529,884,404    121,812,497   \n",
       "5       6    20th Century Fox             15    $410,787,635     94,433,933   \n",
       "6       7                 MGM             19    $333,155,248     76,587,403   \n",
       "7       8            New Line             16    $331,897,897     76,298,359   \n",
       "8       9             Miramax             38    $186,292,656     42,825,880   \n",
       "9      10               Savoy              9     $65,459,506     15,048,158   \n",
       "\n",
       "  Процент от общего кол-ва   Год  \n",
       "0                   19.04%  1995  \n",
       "1                   16.31%  1995  \n",
       "2                   12.84%  1995  \n",
       "3                   12.54%  1995  \n",
       "4                    9.97%  1995  \n",
       "5                    7.73%  1995  \n",
       "6                    6.27%  1995  \n",
       "7                    6.25%  1995  \n",
       "8                    3.51%  1995  \n",
       "9                    1.23%  1995  "
      ]
     },
     "execution_count": 114,
     "metadata": {},
     "output_type": "execute_result"
    }
   ],
   "source": [
    "df[:10]"
   ]
  },
  {
   "cell_type": "code",
   "execution_count": 34,
   "metadata": {},
   "outputs": [
    {
     "ename": "TypeError",
     "evalue": "unsupported operand type(s) for /: 'str' and 'str'",
     "output_type": "error",
     "traceback": [
      "\u001b[0;31m---------------------------------------------------------------------------\u001b[0m",
      "\u001b[0;31mTypeError\u001b[0m                                 Traceback (most recent call last)",
      "\u001b[0;32m/opt/anaconda3/lib/python3.7/site-packages/pandas/core/ops/__init__.py\u001b[0m in \u001b[0;36mna_op\u001b[0;34m(x, y)\u001b[0m\n\u001b[1;32m    967\u001b[0m         \u001b[0;32mtry\u001b[0m\u001b[0;34m:\u001b[0m\u001b[0;34m\u001b[0m\u001b[0;34m\u001b[0m\u001b[0m\n\u001b[0;32m--> 968\u001b[0;31m             \u001b[0mresult\u001b[0m \u001b[0;34m=\u001b[0m \u001b[0mexpressions\u001b[0m\u001b[0;34m.\u001b[0m\u001b[0mevaluate\u001b[0m\u001b[0;34m(\u001b[0m\u001b[0mop\u001b[0m\u001b[0;34m,\u001b[0m \u001b[0mstr_rep\u001b[0m\u001b[0;34m,\u001b[0m \u001b[0mx\u001b[0m\u001b[0;34m,\u001b[0m \u001b[0my\u001b[0m\u001b[0;34m,\u001b[0m \u001b[0;34m**\u001b[0m\u001b[0meval_kwargs\u001b[0m\u001b[0;34m)\u001b[0m\u001b[0;34m\u001b[0m\u001b[0;34m\u001b[0m\u001b[0m\n\u001b[0m\u001b[1;32m    969\u001b[0m         \u001b[0;32mexcept\u001b[0m \u001b[0mTypeError\u001b[0m\u001b[0;34m:\u001b[0m\u001b[0;34m\u001b[0m\u001b[0;34m\u001b[0m\u001b[0m\n",
      "\u001b[0;32m/opt/anaconda3/lib/python3.7/site-packages/pandas/core/computation/expressions.py\u001b[0m in \u001b[0;36mevaluate\u001b[0;34m(op, op_str, a, b, use_numexpr, **eval_kwargs)\u001b[0m\n\u001b[1;32m    220\u001b[0m     \u001b[0;32mif\u001b[0m \u001b[0muse_numexpr\u001b[0m\u001b[0;34m:\u001b[0m\u001b[0;34m\u001b[0m\u001b[0;34m\u001b[0m\u001b[0m\n\u001b[0;32m--> 221\u001b[0;31m         \u001b[0;32mreturn\u001b[0m \u001b[0m_evaluate\u001b[0m\u001b[0;34m(\u001b[0m\u001b[0mop\u001b[0m\u001b[0;34m,\u001b[0m \u001b[0mop_str\u001b[0m\u001b[0;34m,\u001b[0m \u001b[0ma\u001b[0m\u001b[0;34m,\u001b[0m \u001b[0mb\u001b[0m\u001b[0;34m,\u001b[0m \u001b[0;34m**\u001b[0m\u001b[0meval_kwargs\u001b[0m\u001b[0;34m)\u001b[0m\u001b[0;34m\u001b[0m\u001b[0;34m\u001b[0m\u001b[0m\n\u001b[0m\u001b[1;32m    222\u001b[0m     \u001b[0;32mreturn\u001b[0m \u001b[0m_evaluate_standard\u001b[0m\u001b[0;34m(\u001b[0m\u001b[0mop\u001b[0m\u001b[0;34m,\u001b[0m \u001b[0mop_str\u001b[0m\u001b[0;34m,\u001b[0m \u001b[0ma\u001b[0m\u001b[0;34m,\u001b[0m \u001b[0mb\u001b[0m\u001b[0;34m)\u001b[0m\u001b[0;34m\u001b[0m\u001b[0;34m\u001b[0m\u001b[0m\n",
      "\u001b[0;32m/opt/anaconda3/lib/python3.7/site-packages/pandas/core/computation/expressions.py\u001b[0m in \u001b[0;36m_evaluate_numexpr\u001b[0;34m(op, op_str, a, b, truediv, reversed, **eval_kwargs)\u001b[0m\n\u001b[1;32m    126\u001b[0m     \u001b[0;32mif\u001b[0m \u001b[0mresult\u001b[0m \u001b[0;32mis\u001b[0m \u001b[0;32mNone\u001b[0m\u001b[0;34m:\u001b[0m\u001b[0;34m\u001b[0m\u001b[0;34m\u001b[0m\u001b[0m\n\u001b[0;32m--> 127\u001b[0;31m         \u001b[0mresult\u001b[0m \u001b[0;34m=\u001b[0m \u001b[0m_evaluate_standard\u001b[0m\u001b[0;34m(\u001b[0m\u001b[0mop\u001b[0m\u001b[0;34m,\u001b[0m \u001b[0mop_str\u001b[0m\u001b[0;34m,\u001b[0m \u001b[0ma\u001b[0m\u001b[0;34m,\u001b[0m \u001b[0mb\u001b[0m\u001b[0;34m)\u001b[0m\u001b[0;34m\u001b[0m\u001b[0;34m\u001b[0m\u001b[0m\n\u001b[0m\u001b[1;32m    128\u001b[0m \u001b[0;34m\u001b[0m\u001b[0m\n",
      "\u001b[0;32m/opt/anaconda3/lib/python3.7/site-packages/pandas/core/computation/expressions.py\u001b[0m in \u001b[0;36m_evaluate_standard\u001b[0;34m(op, op_str, a, b, **eval_kwargs)\u001b[0m\n\u001b[1;32m     69\u001b[0m     \u001b[0;32mwith\u001b[0m \u001b[0mnp\u001b[0m\u001b[0;34m.\u001b[0m\u001b[0merrstate\u001b[0m\u001b[0;34m(\u001b[0m\u001b[0mall\u001b[0m\u001b[0;34m=\u001b[0m\u001b[0;34m\"ignore\"\u001b[0m\u001b[0;34m)\u001b[0m\u001b[0;34m:\u001b[0m\u001b[0;34m\u001b[0m\u001b[0;34m\u001b[0m\u001b[0m\n\u001b[0;32m---> 70\u001b[0;31m         \u001b[0;32mreturn\u001b[0m \u001b[0mop\u001b[0m\u001b[0;34m(\u001b[0m\u001b[0ma\u001b[0m\u001b[0;34m,\u001b[0m \u001b[0mb\u001b[0m\u001b[0;34m)\u001b[0m\u001b[0;34m\u001b[0m\u001b[0;34m\u001b[0m\u001b[0m\n\u001b[0m\u001b[1;32m     71\u001b[0m \u001b[0;34m\u001b[0m\u001b[0m\n",
      "\u001b[0;31mTypeError\u001b[0m: unsupported operand type(s) for /: 'str' and 'str'",
      "\nDuring handling of the above exception, another exception occurred:\n",
      "\u001b[0;31mTypeError\u001b[0m                                 Traceback (most recent call last)",
      "\u001b[0;32m<ipython-input-34-d3dfb4a52c52>\u001b[0m in \u001b[0;36m<module>\u001b[0;34m\u001b[0m\n\u001b[0;32m----> 1\u001b[0;31m \u001b[0mdf\u001b[0m\u001b[0;34m[\u001b[0m\u001b[0;34m'Среднее кол-во посетителей'\u001b[0m\u001b[0;34m]\u001b[0m \u001b[0;34m=\u001b[0m \u001b[0mdf\u001b[0m\u001b[0;34m[\u001b[0m\u001b[0;34m'Кол-во билетов'\u001b[0m\u001b[0;34m]\u001b[0m\u001b[0;34m/\u001b[0m\u001b[0mdf\u001b[0m\u001b[0;34m[\u001b[0m\u001b[0;34m'Кол-во фильмов'\u001b[0m\u001b[0;34m]\u001b[0m\u001b[0;34m\u001b[0m\u001b[0;34m\u001b[0m\u001b[0m\n\u001b[0m\u001b[1;32m      2\u001b[0m \u001b[0mdf\u001b[0m\u001b[0;34m\u001b[0m\u001b[0;34m\u001b[0m\u001b[0m\n",
      "\u001b[0;32m/opt/anaconda3/lib/python3.7/site-packages/pandas/core/ops/__init__.py\u001b[0m in \u001b[0;36mwrapper\u001b[0;34m(left, right)\u001b[0m\n\u001b[1;32m   1046\u001b[0m \u001b[0;34m\u001b[0m\u001b[0m\n\u001b[1;32m   1047\u001b[0m         \u001b[0;32mwith\u001b[0m \u001b[0mnp\u001b[0m\u001b[0;34m.\u001b[0m\u001b[0merrstate\u001b[0m\u001b[0;34m(\u001b[0m\u001b[0mall\u001b[0m\u001b[0;34m=\u001b[0m\u001b[0;34m\"ignore\"\u001b[0m\u001b[0;34m)\u001b[0m\u001b[0;34m:\u001b[0m\u001b[0;34m\u001b[0m\u001b[0;34m\u001b[0m\u001b[0m\n\u001b[0;32m-> 1048\u001b[0;31m             \u001b[0mresult\u001b[0m \u001b[0;34m=\u001b[0m \u001b[0mna_op\u001b[0m\u001b[0;34m(\u001b[0m\u001b[0mlvalues\u001b[0m\u001b[0;34m,\u001b[0m \u001b[0mrvalues\u001b[0m\u001b[0;34m)\u001b[0m\u001b[0;34m\u001b[0m\u001b[0;34m\u001b[0m\u001b[0m\n\u001b[0m\u001b[1;32m   1049\u001b[0m         return construct_result(\n\u001b[1;32m   1050\u001b[0m             \u001b[0mleft\u001b[0m\u001b[0;34m,\u001b[0m \u001b[0mresult\u001b[0m\u001b[0;34m,\u001b[0m \u001b[0mindex\u001b[0m\u001b[0;34m=\u001b[0m\u001b[0mleft\u001b[0m\u001b[0;34m.\u001b[0m\u001b[0mindex\u001b[0m\u001b[0;34m,\u001b[0m \u001b[0mname\u001b[0m\u001b[0;34m=\u001b[0m\u001b[0mres_name\u001b[0m\u001b[0;34m,\u001b[0m \u001b[0mdtype\u001b[0m\u001b[0;34m=\u001b[0m\u001b[0;32mNone\u001b[0m\u001b[0;34m\u001b[0m\u001b[0;34m\u001b[0m\u001b[0m\n",
      "\u001b[0;32m/opt/anaconda3/lib/python3.7/site-packages/pandas/core/ops/__init__.py\u001b[0m in \u001b[0;36mna_op\u001b[0;34m(x, y)\u001b[0m\n\u001b[1;32m    968\u001b[0m             \u001b[0mresult\u001b[0m \u001b[0;34m=\u001b[0m \u001b[0mexpressions\u001b[0m\u001b[0;34m.\u001b[0m\u001b[0mevaluate\u001b[0m\u001b[0;34m(\u001b[0m\u001b[0mop\u001b[0m\u001b[0;34m,\u001b[0m \u001b[0mstr_rep\u001b[0m\u001b[0;34m,\u001b[0m \u001b[0mx\u001b[0m\u001b[0;34m,\u001b[0m \u001b[0my\u001b[0m\u001b[0;34m,\u001b[0m \u001b[0;34m**\u001b[0m\u001b[0meval_kwargs\u001b[0m\u001b[0;34m)\u001b[0m\u001b[0;34m\u001b[0m\u001b[0;34m\u001b[0m\u001b[0m\n\u001b[1;32m    969\u001b[0m         \u001b[0;32mexcept\u001b[0m \u001b[0mTypeError\u001b[0m\u001b[0;34m:\u001b[0m\u001b[0;34m\u001b[0m\u001b[0;34m\u001b[0m\u001b[0m\n\u001b[0;32m--> 970\u001b[0;31m             \u001b[0mresult\u001b[0m \u001b[0;34m=\u001b[0m \u001b[0mmasked_arith_op\u001b[0m\u001b[0;34m(\u001b[0m\u001b[0mx\u001b[0m\u001b[0;34m,\u001b[0m \u001b[0my\u001b[0m\u001b[0;34m,\u001b[0m \u001b[0mop\u001b[0m\u001b[0;34m)\u001b[0m\u001b[0;34m\u001b[0m\u001b[0;34m\u001b[0m\u001b[0m\n\u001b[0m\u001b[1;32m    971\u001b[0m \u001b[0;34m\u001b[0m\u001b[0m\n\u001b[1;32m    972\u001b[0m         \u001b[0;32mreturn\u001b[0m \u001b[0mmissing\u001b[0m\u001b[0;34m.\u001b[0m\u001b[0mdispatch_fill_zeros\u001b[0m\u001b[0;34m(\u001b[0m\u001b[0mop\u001b[0m\u001b[0;34m,\u001b[0m \u001b[0mx\u001b[0m\u001b[0;34m,\u001b[0m \u001b[0my\u001b[0m\u001b[0;34m,\u001b[0m \u001b[0mresult\u001b[0m\u001b[0;34m)\u001b[0m\u001b[0;34m\u001b[0m\u001b[0;34m\u001b[0m\u001b[0m\n",
      "\u001b[0;32m/opt/anaconda3/lib/python3.7/site-packages/pandas/core/ops/__init__.py\u001b[0m in \u001b[0;36mmasked_arith_op\u001b[0;34m(x, y, op)\u001b[0m\n\u001b[1;32m    445\u001b[0m         \u001b[0;32mif\u001b[0m \u001b[0mmask\u001b[0m\u001b[0;34m.\u001b[0m\u001b[0many\u001b[0m\u001b[0;34m(\u001b[0m\u001b[0;34m)\u001b[0m\u001b[0;34m:\u001b[0m\u001b[0;34m\u001b[0m\u001b[0;34m\u001b[0m\u001b[0m\n\u001b[1;32m    446\u001b[0m             \u001b[0;32mwith\u001b[0m \u001b[0mnp\u001b[0m\u001b[0;34m.\u001b[0m\u001b[0merrstate\u001b[0m\u001b[0;34m(\u001b[0m\u001b[0mall\u001b[0m\u001b[0;34m=\u001b[0m\u001b[0;34m\"ignore\"\u001b[0m\u001b[0;34m)\u001b[0m\u001b[0;34m:\u001b[0m\u001b[0;34m\u001b[0m\u001b[0;34m\u001b[0m\u001b[0m\n\u001b[0;32m--> 447\u001b[0;31m                 \u001b[0mresult\u001b[0m\u001b[0;34m[\u001b[0m\u001b[0mmask\u001b[0m\u001b[0;34m]\u001b[0m \u001b[0;34m=\u001b[0m \u001b[0mop\u001b[0m\u001b[0;34m(\u001b[0m\u001b[0mxrav\u001b[0m\u001b[0;34m[\u001b[0m\u001b[0mmask\u001b[0m\u001b[0;34m]\u001b[0m\u001b[0;34m,\u001b[0m \u001b[0mcom\u001b[0m\u001b[0;34m.\u001b[0m\u001b[0mvalues_from_object\u001b[0m\u001b[0;34m(\u001b[0m\u001b[0myrav\u001b[0m\u001b[0;34m[\u001b[0m\u001b[0mmask\u001b[0m\u001b[0;34m]\u001b[0m\u001b[0;34m)\u001b[0m\u001b[0;34m)\u001b[0m\u001b[0;34m\u001b[0m\u001b[0;34m\u001b[0m\u001b[0m\n\u001b[0m\u001b[1;32m    448\u001b[0m \u001b[0;34m\u001b[0m\u001b[0m\n\u001b[1;32m    449\u001b[0m     \u001b[0;32melse\u001b[0m\u001b[0;34m:\u001b[0m\u001b[0;34m\u001b[0m\u001b[0;34m\u001b[0m\u001b[0m\n",
      "\u001b[0;31mTypeError\u001b[0m: unsupported operand type(s) for /: 'str' and 'str'"
     ]
    }
   ],
   "source": [
    "df['Среднее кол-во посетителей'] = df['Кол-во билетов']/df['Кол-во фильмов']\n",
    "df"
   ]
  },
  {
   "cell_type": "markdown",
   "metadata": {},
   "source": [
    "Неприятность случилась. Надо все починить! Я предугадываю проблему, что значения в таблице будут некрасивые, поэтому сделаем парочку манипуляци, чтобы все сразу было красиво!\n"
   ]
  },
  {
   "cell_type": "code",
   "execution_count": 115,
   "metadata": {},
   "outputs": [
    {
     "data": {
      "text/html": [
       "<div>\n",
       "<style scoped>\n",
       "    .dataframe tbody tr th:only-of-type {\n",
       "        vertical-align: middle;\n",
       "    }\n",
       "\n",
       "    .dataframe tbody tr th {\n",
       "        vertical-align: top;\n",
       "    }\n",
       "\n",
       "    .dataframe thead th {\n",
       "        text-align: right;\n",
       "    }\n",
       "</style>\n",
       "<table border=\"1\" class=\"dataframe\">\n",
       "  <thead>\n",
       "    <tr style=\"text-align: right;\">\n",
       "      <th></th>\n",
       "      <th>Рейтинг</th>\n",
       "      <th>Компания</th>\n",
       "      <th>Кол-во фильмов</th>\n",
       "      <th>Box office</th>\n",
       "      <th>Кол-во билетов</th>\n",
       "      <th>Процент от общего кол-ва</th>\n",
       "      <th>Год</th>\n",
       "      <th>Среднее кол-во посетителей</th>\n",
       "    </tr>\n",
       "  </thead>\n",
       "  <tbody>\n",
       "    <tr>\n",
       "      <td>0</td>\n",
       "      <td>1</td>\n",
       "      <td>Walt Disney</td>\n",
       "      <td>38.0</td>\n",
       "      <td>$1,012,034,105</td>\n",
       "      <td>232651499.0</td>\n",
       "      <td>19.04%</td>\n",
       "      <td>1995</td>\n",
       "      <td>6.122408e+06</td>\n",
       "    </tr>\n",
       "    <tr>\n",
       "      <td>1</td>\n",
       "      <td>2</td>\n",
       "      <td>Warner Bros.</td>\n",
       "      <td>31.0</td>\n",
       "      <td>$866,884,482</td>\n",
       "      <td>199283775.0</td>\n",
       "      <td>16.31%</td>\n",
       "      <td>1995</td>\n",
       "      <td>6.428509e+06</td>\n",
       "    </tr>\n",
       "    <tr>\n",
       "      <td>2</td>\n",
       "      <td>3</td>\n",
       "      <td>Sony Pictures</td>\n",
       "      <td>31.0</td>\n",
       "      <td>$682,169,140</td>\n",
       "      <td>156820477.0</td>\n",
       "      <td>12.84%</td>\n",
       "      <td>1995</td>\n",
       "      <td>5.058725e+06</td>\n",
       "    </tr>\n",
       "    <tr>\n",
       "      <td>3</td>\n",
       "      <td>4</td>\n",
       "      <td>Universal</td>\n",
       "      <td>21.0</td>\n",
       "      <td>$666,656,425</td>\n",
       "      <td>153254338.0</td>\n",
       "      <td>12.54%</td>\n",
       "      <td>1995</td>\n",
       "      <td>7.297826e+06</td>\n",
       "    </tr>\n",
       "    <tr>\n",
       "      <td>4</td>\n",
       "      <td>5</td>\n",
       "      <td>Paramount Pictures</td>\n",
       "      <td>21.0</td>\n",
       "      <td>$529,884,404</td>\n",
       "      <td>121812497.0</td>\n",
       "      <td>9.97%</td>\n",
       "      <td>1995</td>\n",
       "      <td>5.800595e+06</td>\n",
       "    </tr>\n",
       "    <tr>\n",
       "      <td>...</td>\n",
       "      <td>...</td>\n",
       "      <td>...</td>\n",
       "      <td>...</td>\n",
       "      <td>...</td>\n",
       "      <td>...</td>\n",
       "      <td>...</td>\n",
       "      <td>...</td>\n",
       "      <td>...</td>\n",
       "    </tr>\n",
       "    <tr>\n",
       "      <td>2781</td>\n",
       "      <td>62</td>\n",
       "      <td>1091 Media</td>\n",
       "      <td>5.0</td>\n",
       "      <td>$734,336</td>\n",
       "      <td>80605.0</td>\n",
       "      <td>0.01%</td>\n",
       "      <td>2019</td>\n",
       "      <td>1.612100e+04</td>\n",
       "    </tr>\n",
       "    <tr>\n",
       "      <td>2782</td>\n",
       "      <td>63</td>\n",
       "      <td>ESX Entertainment</td>\n",
       "      <td>1.0</td>\n",
       "      <td>$725,042</td>\n",
       "      <td>79587.0</td>\n",
       "      <td>0.01%</td>\n",
       "      <td>2019</td>\n",
       "      <td>7.958700e+04</td>\n",
       "    </tr>\n",
       "    <tr>\n",
       "      <td>2783</td>\n",
       "      <td>64</td>\n",
       "      <td>Briarcliffe Entertainment</td>\n",
       "      <td>1.0</td>\n",
       "      <td>$700,261</td>\n",
       "      <td>76867.0</td>\n",
       "      <td>0.01%</td>\n",
       "      <td>2019</td>\n",
       "      <td>7.686700e+04</td>\n",
       "    </tr>\n",
       "    <tr>\n",
       "      <td>2784</td>\n",
       "      <td>65</td>\n",
       "      <td>Mongrel Media</td>\n",
       "      <td>1.0</td>\n",
       "      <td>$650,565</td>\n",
       "      <td>71412.0</td>\n",
       "      <td>0.01%</td>\n",
       "      <td>2019</td>\n",
       "      <td>7.141200e+04</td>\n",
       "    </tr>\n",
       "    <tr>\n",
       "      <td>2785</td>\n",
       "      <td>66</td>\n",
       "      <td>PBS Distribution</td>\n",
       "      <td>2.0</td>\n",
       "      <td>$644,450</td>\n",
       "      <td>70740.0</td>\n",
       "      <td>0.01%</td>\n",
       "      <td>2019</td>\n",
       "      <td>3.537000e+04</td>\n",
       "    </tr>\n",
       "  </tbody>\n",
       "</table>\n",
       "<p>1375 rows × 8 columns</p>\n",
       "</div>"
      ],
      "text/plain": [
       "     Рейтинг                   Компания  Кол-во фильмов      Box office  \\\n",
       "0          1                Walt Disney            38.0  $1,012,034,105   \n",
       "1          2               Warner Bros.            31.0    $866,884,482   \n",
       "2          3              Sony Pictures            31.0    $682,169,140   \n",
       "3          4                  Universal            21.0    $666,656,425   \n",
       "4          5         Paramount Pictures            21.0    $529,884,404   \n",
       "...      ...                        ...             ...             ...   \n",
       "2781      62                 1091 Media             5.0        $734,336   \n",
       "2782      63          ESX Entertainment             1.0        $725,042   \n",
       "2783      64  Briarcliffe Entertainment             1.0        $700,261   \n",
       "2784      65              Mongrel Media             1.0        $650,565   \n",
       "2785      66           PBS Distribution             2.0        $644,450   \n",
       "\n",
       "      Кол-во билетов Процент от общего кол-ва   Год  \\\n",
       "0        232651499.0                   19.04%  1995   \n",
       "1        199283775.0                   16.31%  1995   \n",
       "2        156820477.0                   12.84%  1995   \n",
       "3        153254338.0                   12.54%  1995   \n",
       "4        121812497.0                    9.97%  1995   \n",
       "...              ...                      ...   ...   \n",
       "2781         80605.0                    0.01%  2019   \n",
       "2782         79587.0                    0.01%  2019   \n",
       "2783         76867.0                    0.01%  2019   \n",
       "2784         71412.0                    0.01%  2019   \n",
       "2785         70740.0                    0.01%  2019   \n",
       "\n",
       "      Среднее кол-во посетителей  \n",
       "0                   6.122408e+06  \n",
       "1                   6.428509e+06  \n",
       "2                   5.058725e+06  \n",
       "3                   7.297826e+06  \n",
       "4                   5.800595e+06  \n",
       "...                          ...  \n",
       "2781                1.612100e+04  \n",
       "2782                7.958700e+04  \n",
       "2783                7.686700e+04  \n",
       "2784                7.141200e+04  \n",
       "2785                3.537000e+04  \n",
       "\n",
       "[1375 rows x 8 columns]"
      ]
     },
     "execution_count": 115,
     "metadata": {},
     "output_type": "execute_result"
    }
   ],
   "source": [
    "a = pd.DataFrame(df)\n",
    "a['Кол-во билетов'] = [x.replace(',', '') for x in a['Кол-во билетов']]\n",
    "a['Кол-во билетов'] = a['Кол-во билетов'].astype(float)\n",
    "a['Кол-во фильмов'] = a['Кол-во фильмов'].astype(float)\n",
    "\n",
    "a['Среднее кол-во посетителей'] = a['Кол-во билетов']/a['Кол-во фильмов']\n",
    "a"
   ]
  },
  {
   "cell_type": "markdown",
   "metadata": {},
   "source": [
    "Ух, давайте теперь узнем средний бюджет!"
   ]
  },
  {
   "cell_type": "code",
   "execution_count": 116,
   "metadata": {},
   "outputs": [],
   "source": [
    "a['Box office'] = [x.replace(',', '') for x in a['Box office']]\n",
    "a['Box office'] = [x.replace('$', '') for x in a['Box office']]\n",
    "a['Box office'] = a['Box office'].astype(float)\n",
    "\n",
    "\n",
    "a['Средний бюджет'] = a['Box office']/a['Кол-во фильмов']"
   ]
  },
  {
   "cell_type": "code",
   "execution_count": 117,
   "metadata": {},
   "outputs": [
    {
     "data": {
      "text/html": [
       "<div>\n",
       "<style scoped>\n",
       "    .dataframe tbody tr th:only-of-type {\n",
       "        vertical-align: middle;\n",
       "    }\n",
       "\n",
       "    .dataframe tbody tr th {\n",
       "        vertical-align: top;\n",
       "    }\n",
       "\n",
       "    .dataframe thead th {\n",
       "        text-align: right;\n",
       "    }\n",
       "</style>\n",
       "<table border=\"1\" class=\"dataframe\">\n",
       "  <thead>\n",
       "    <tr style=\"text-align: right;\">\n",
       "      <th></th>\n",
       "      <th>Рейтинг</th>\n",
       "      <th>Компания</th>\n",
       "      <th>Кол-во фильмов</th>\n",
       "      <th>Box office</th>\n",
       "      <th>Кол-во билетов</th>\n",
       "      <th>Процент от общего кол-ва</th>\n",
       "      <th>Год</th>\n",
       "      <th>Среднее кол-во посетителей</th>\n",
       "      <th>Средний бюджет</th>\n",
       "    </tr>\n",
       "  </thead>\n",
       "  <tbody>\n",
       "    <tr>\n",
       "      <td>0</td>\n",
       "      <td>1</td>\n",
       "      <td>Walt Disney</td>\n",
       "      <td>38.0</td>\n",
       "      <td>1.012034e+09</td>\n",
       "      <td>232651499.0</td>\n",
       "      <td>19.04%</td>\n",
       "      <td>1995</td>\n",
       "      <td>6.122408e+06</td>\n",
       "      <td>2.663248e+07</td>\n",
       "    </tr>\n",
       "    <tr>\n",
       "      <td>1</td>\n",
       "      <td>2</td>\n",
       "      <td>Warner Bros.</td>\n",
       "      <td>31.0</td>\n",
       "      <td>8.668845e+08</td>\n",
       "      <td>199283775.0</td>\n",
       "      <td>16.31%</td>\n",
       "      <td>1995</td>\n",
       "      <td>6.428509e+06</td>\n",
       "      <td>2.796402e+07</td>\n",
       "    </tr>\n",
       "    <tr>\n",
       "      <td>2</td>\n",
       "      <td>3</td>\n",
       "      <td>Sony Pictures</td>\n",
       "      <td>31.0</td>\n",
       "      <td>6.821691e+08</td>\n",
       "      <td>156820477.0</td>\n",
       "      <td>12.84%</td>\n",
       "      <td>1995</td>\n",
       "      <td>5.058725e+06</td>\n",
       "      <td>2.200546e+07</td>\n",
       "    </tr>\n",
       "    <tr>\n",
       "      <td>3</td>\n",
       "      <td>4</td>\n",
       "      <td>Universal</td>\n",
       "      <td>21.0</td>\n",
       "      <td>6.666564e+08</td>\n",
       "      <td>153254338.0</td>\n",
       "      <td>12.54%</td>\n",
       "      <td>1995</td>\n",
       "      <td>7.297826e+06</td>\n",
       "      <td>3.174554e+07</td>\n",
       "    </tr>\n",
       "    <tr>\n",
       "      <td>4</td>\n",
       "      <td>5</td>\n",
       "      <td>Paramount Pictures</td>\n",
       "      <td>21.0</td>\n",
       "      <td>5.298844e+08</td>\n",
       "      <td>121812497.0</td>\n",
       "      <td>9.97%</td>\n",
       "      <td>1995</td>\n",
       "      <td>5.800595e+06</td>\n",
       "      <td>2.523259e+07</td>\n",
       "    </tr>\n",
       "    <tr>\n",
       "      <td>...</td>\n",
       "      <td>...</td>\n",
       "      <td>...</td>\n",
       "      <td>...</td>\n",
       "      <td>...</td>\n",
       "      <td>...</td>\n",
       "      <td>...</td>\n",
       "      <td>...</td>\n",
       "      <td>...</td>\n",
       "      <td>...</td>\n",
       "    </tr>\n",
       "    <tr>\n",
       "      <td>2781</td>\n",
       "      <td>62</td>\n",
       "      <td>1091 Media</td>\n",
       "      <td>5.0</td>\n",
       "      <td>7.343360e+05</td>\n",
       "      <td>80605.0</td>\n",
       "      <td>0.01%</td>\n",
       "      <td>2019</td>\n",
       "      <td>1.612100e+04</td>\n",
       "      <td>1.468672e+05</td>\n",
       "    </tr>\n",
       "    <tr>\n",
       "      <td>2782</td>\n",
       "      <td>63</td>\n",
       "      <td>ESX Entertainment</td>\n",
       "      <td>1.0</td>\n",
       "      <td>7.250420e+05</td>\n",
       "      <td>79587.0</td>\n",
       "      <td>0.01%</td>\n",
       "      <td>2019</td>\n",
       "      <td>7.958700e+04</td>\n",
       "      <td>7.250420e+05</td>\n",
       "    </tr>\n",
       "    <tr>\n",
       "      <td>2783</td>\n",
       "      <td>64</td>\n",
       "      <td>Briarcliffe Entertainment</td>\n",
       "      <td>1.0</td>\n",
       "      <td>7.002610e+05</td>\n",
       "      <td>76867.0</td>\n",
       "      <td>0.01%</td>\n",
       "      <td>2019</td>\n",
       "      <td>7.686700e+04</td>\n",
       "      <td>7.002610e+05</td>\n",
       "    </tr>\n",
       "    <tr>\n",
       "      <td>2784</td>\n",
       "      <td>65</td>\n",
       "      <td>Mongrel Media</td>\n",
       "      <td>1.0</td>\n",
       "      <td>6.505650e+05</td>\n",
       "      <td>71412.0</td>\n",
       "      <td>0.01%</td>\n",
       "      <td>2019</td>\n",
       "      <td>7.141200e+04</td>\n",
       "      <td>6.505650e+05</td>\n",
       "    </tr>\n",
       "    <tr>\n",
       "      <td>2785</td>\n",
       "      <td>66</td>\n",
       "      <td>PBS Distribution</td>\n",
       "      <td>2.0</td>\n",
       "      <td>6.444500e+05</td>\n",
       "      <td>70740.0</td>\n",
       "      <td>0.01%</td>\n",
       "      <td>2019</td>\n",
       "      <td>3.537000e+04</td>\n",
       "      <td>3.222250e+05</td>\n",
       "    </tr>\n",
       "  </tbody>\n",
       "</table>\n",
       "<p>1375 rows × 9 columns</p>\n",
       "</div>"
      ],
      "text/plain": [
       "     Рейтинг                   Компания  Кол-во фильмов    Box office  \\\n",
       "0          1                Walt Disney            38.0  1.012034e+09   \n",
       "1          2               Warner Bros.            31.0  8.668845e+08   \n",
       "2          3              Sony Pictures            31.0  6.821691e+08   \n",
       "3          4                  Universal            21.0  6.666564e+08   \n",
       "4          5         Paramount Pictures            21.0  5.298844e+08   \n",
       "...      ...                        ...             ...           ...   \n",
       "2781      62                 1091 Media             5.0  7.343360e+05   \n",
       "2782      63          ESX Entertainment             1.0  7.250420e+05   \n",
       "2783      64  Briarcliffe Entertainment             1.0  7.002610e+05   \n",
       "2784      65              Mongrel Media             1.0  6.505650e+05   \n",
       "2785      66           PBS Distribution             2.0  6.444500e+05   \n",
       "\n",
       "      Кол-во билетов Процент от общего кол-ва   Год  \\\n",
       "0        232651499.0                   19.04%  1995   \n",
       "1        199283775.0                   16.31%  1995   \n",
       "2        156820477.0                   12.84%  1995   \n",
       "3        153254338.0                   12.54%  1995   \n",
       "4        121812497.0                    9.97%  1995   \n",
       "...              ...                      ...   ...   \n",
       "2781         80605.0                    0.01%  2019   \n",
       "2782         79587.0                    0.01%  2019   \n",
       "2783         76867.0                    0.01%  2019   \n",
       "2784         71412.0                    0.01%  2019   \n",
       "2785         70740.0                    0.01%  2019   \n",
       "\n",
       "      Среднее кол-во посетителей  Средний бюджет  \n",
       "0                   6.122408e+06    2.663248e+07  \n",
       "1                   6.428509e+06    2.796402e+07  \n",
       "2                   5.058725e+06    2.200546e+07  \n",
       "3                   7.297826e+06    3.174554e+07  \n",
       "4                   5.800595e+06    2.523259e+07  \n",
       "...                          ...             ...  \n",
       "2781                1.612100e+04    1.468672e+05  \n",
       "2782                7.958700e+04    7.250420e+05  \n",
       "2783                7.686700e+04    7.002610e+05  \n",
       "2784                7.141200e+04    6.505650e+05  \n",
       "2785                3.537000e+04    3.222250e+05  \n",
       "\n",
       "[1375 rows x 9 columns]"
      ]
     },
     "execution_count": 117,
     "metadata": {},
     "output_type": "execute_result"
    }
   ],
   "source": [
    "a"
   ]
  },
  {
   "cell_type": "markdown",
   "metadata": {},
   "source": [
    "Значения в таблице стали некрасивые! Вернем все обратно :)"
   ]
  },
  {
   "cell_type": "code",
   "execution_count": 120,
   "metadata": {},
   "outputs": [],
   "source": [
    "q = list(a['Среднее кол-во посетителей'])\n",
    "w = list(a['Средний бюджет']) \n",
    "r = list(a['Box office'])\n",
    "df['Среднее кол-во посетителей'] = q\n",
    "df['Средний бюджет'] = w\n",
    "df['Box office'] = r\n",
    "df['Среднее кол-во посетителей'] = df['Среднее кол-во посетителей'].astype(int)\n",
    "df['Средний бюджет'] = df['Средний бюджет'].astype(int)\n",
    "df['Box office'] = df['Box office'].astype(int)"
   ]
  },
  {
   "cell_type": "code",
   "execution_count": 121,
   "metadata": {},
   "outputs": [
    {
     "data": {
      "text/html": [
       "<div>\n",
       "<style scoped>\n",
       "    .dataframe tbody tr th:only-of-type {\n",
       "        vertical-align: middle;\n",
       "    }\n",
       "\n",
       "    .dataframe tbody tr th {\n",
       "        vertical-align: top;\n",
       "    }\n",
       "\n",
       "    .dataframe thead th {\n",
       "        text-align: right;\n",
       "    }\n",
       "</style>\n",
       "<table border=\"1\" class=\"dataframe\">\n",
       "  <thead>\n",
       "    <tr style=\"text-align: right;\">\n",
       "      <th></th>\n",
       "      <th>Рейтинг</th>\n",
       "      <th>Компания</th>\n",
       "      <th>Кол-во фильмов</th>\n",
       "      <th>Box office</th>\n",
       "      <th>Кол-во билетов</th>\n",
       "      <th>Процент от общего кол-ва</th>\n",
       "      <th>Год</th>\n",
       "      <th>Среднее кол-во посетителей</th>\n",
       "      <th>Средний бюджет</th>\n",
       "    </tr>\n",
       "  </thead>\n",
       "  <tbody>\n",
       "    <tr>\n",
       "      <td>0</td>\n",
       "      <td>1</td>\n",
       "      <td>Walt Disney</td>\n",
       "      <td>38.0</td>\n",
       "      <td>1012034105</td>\n",
       "      <td>232651499.0</td>\n",
       "      <td>19.04%</td>\n",
       "      <td>1995</td>\n",
       "      <td>6122407</td>\n",
       "      <td>26632476</td>\n",
       "    </tr>\n",
       "    <tr>\n",
       "      <td>1</td>\n",
       "      <td>2</td>\n",
       "      <td>Warner Bros.</td>\n",
       "      <td>31.0</td>\n",
       "      <td>866884482</td>\n",
       "      <td>199283775.0</td>\n",
       "      <td>16.31%</td>\n",
       "      <td>1995</td>\n",
       "      <td>6428508</td>\n",
       "      <td>27964015</td>\n",
       "    </tr>\n",
       "    <tr>\n",
       "      <td>2</td>\n",
       "      <td>3</td>\n",
       "      <td>Sony Pictures</td>\n",
       "      <td>31.0</td>\n",
       "      <td>682169140</td>\n",
       "      <td>156820477.0</td>\n",
       "      <td>12.84%</td>\n",
       "      <td>1995</td>\n",
       "      <td>5058725</td>\n",
       "      <td>22005456</td>\n",
       "    </tr>\n",
       "    <tr>\n",
       "      <td>3</td>\n",
       "      <td>4</td>\n",
       "      <td>Universal</td>\n",
       "      <td>21.0</td>\n",
       "      <td>666656425</td>\n",
       "      <td>153254338.0</td>\n",
       "      <td>12.54%</td>\n",
       "      <td>1995</td>\n",
       "      <td>7297825</td>\n",
       "      <td>31745544</td>\n",
       "    </tr>\n",
       "    <tr>\n",
       "      <td>4</td>\n",
       "      <td>5</td>\n",
       "      <td>Paramount Pictures</td>\n",
       "      <td>21.0</td>\n",
       "      <td>529884404</td>\n",
       "      <td>121812497.0</td>\n",
       "      <td>9.97%</td>\n",
       "      <td>1995</td>\n",
       "      <td>5800595</td>\n",
       "      <td>25232590</td>\n",
       "    </tr>\n",
       "    <tr>\n",
       "      <td>...</td>\n",
       "      <td>...</td>\n",
       "      <td>...</td>\n",
       "      <td>...</td>\n",
       "      <td>...</td>\n",
       "      <td>...</td>\n",
       "      <td>...</td>\n",
       "      <td>...</td>\n",
       "      <td>...</td>\n",
       "      <td>...</td>\n",
       "    </tr>\n",
       "    <tr>\n",
       "      <td>2781</td>\n",
       "      <td>62</td>\n",
       "      <td>1091 Media</td>\n",
       "      <td>5.0</td>\n",
       "      <td>734336</td>\n",
       "      <td>80605.0</td>\n",
       "      <td>0.01%</td>\n",
       "      <td>2019</td>\n",
       "      <td>16121</td>\n",
       "      <td>146867</td>\n",
       "    </tr>\n",
       "    <tr>\n",
       "      <td>2782</td>\n",
       "      <td>63</td>\n",
       "      <td>ESX Entertainment</td>\n",
       "      <td>1.0</td>\n",
       "      <td>725042</td>\n",
       "      <td>79587.0</td>\n",
       "      <td>0.01%</td>\n",
       "      <td>2019</td>\n",
       "      <td>79587</td>\n",
       "      <td>725042</td>\n",
       "    </tr>\n",
       "    <tr>\n",
       "      <td>2783</td>\n",
       "      <td>64</td>\n",
       "      <td>Briarcliffe Entertainment</td>\n",
       "      <td>1.0</td>\n",
       "      <td>700261</td>\n",
       "      <td>76867.0</td>\n",
       "      <td>0.01%</td>\n",
       "      <td>2019</td>\n",
       "      <td>76867</td>\n",
       "      <td>700261</td>\n",
       "    </tr>\n",
       "    <tr>\n",
       "      <td>2784</td>\n",
       "      <td>65</td>\n",
       "      <td>Mongrel Media</td>\n",
       "      <td>1.0</td>\n",
       "      <td>650565</td>\n",
       "      <td>71412.0</td>\n",
       "      <td>0.01%</td>\n",
       "      <td>2019</td>\n",
       "      <td>71412</td>\n",
       "      <td>650565</td>\n",
       "    </tr>\n",
       "    <tr>\n",
       "      <td>2785</td>\n",
       "      <td>66</td>\n",
       "      <td>PBS Distribution</td>\n",
       "      <td>2.0</td>\n",
       "      <td>644450</td>\n",
       "      <td>70740.0</td>\n",
       "      <td>0.01%</td>\n",
       "      <td>2019</td>\n",
       "      <td>35370</td>\n",
       "      <td>322225</td>\n",
       "    </tr>\n",
       "  </tbody>\n",
       "</table>\n",
       "<p>1375 rows × 9 columns</p>\n",
       "</div>"
      ],
      "text/plain": [
       "     Рейтинг                   Компания  Кол-во фильмов  Box office  \\\n",
       "0          1                Walt Disney            38.0  1012034105   \n",
       "1          2               Warner Bros.            31.0   866884482   \n",
       "2          3              Sony Pictures            31.0   682169140   \n",
       "3          4                  Universal            21.0   666656425   \n",
       "4          5         Paramount Pictures            21.0   529884404   \n",
       "...      ...                        ...             ...         ...   \n",
       "2781      62                 1091 Media             5.0      734336   \n",
       "2782      63          ESX Entertainment             1.0      725042   \n",
       "2783      64  Briarcliffe Entertainment             1.0      700261   \n",
       "2784      65              Mongrel Media             1.0      650565   \n",
       "2785      66           PBS Distribution             2.0      644450   \n",
       "\n",
       "      Кол-во билетов Процент от общего кол-ва   Год  \\\n",
       "0        232651499.0                   19.04%  1995   \n",
       "1        199283775.0                   16.31%  1995   \n",
       "2        156820477.0                   12.84%  1995   \n",
       "3        153254338.0                   12.54%  1995   \n",
       "4        121812497.0                    9.97%  1995   \n",
       "...              ...                      ...   ...   \n",
       "2781         80605.0                    0.01%  2019   \n",
       "2782         79587.0                    0.01%  2019   \n",
       "2783         76867.0                    0.01%  2019   \n",
       "2784         71412.0                    0.01%  2019   \n",
       "2785         70740.0                    0.01%  2019   \n",
       "\n",
       "      Среднее кол-во посетителей  Средний бюджет  \n",
       "0                        6122407        26632476  \n",
       "1                        6428508        27964015  \n",
       "2                        5058725        22005456  \n",
       "3                        7297825        31745544  \n",
       "4                        5800595        25232590  \n",
       "...                          ...             ...  \n",
       "2781                       16121          146867  \n",
       "2782                       79587          725042  \n",
       "2783                       76867          700261  \n",
       "2784                       71412          650565  \n",
       "2785                       35370          322225  \n",
       "\n",
       "[1375 rows x 9 columns]"
      ]
     },
     "execution_count": 121,
     "metadata": {},
     "output_type": "execute_result"
    }
   ],
   "source": [
    "df"
   ]
  },
  {
   "cell_type": "markdown",
   "metadata": {},
   "source": [
    "Но то, что нужно, все равно получила!"
   ]
  },
  {
   "cell_type": "markdown",
   "metadata": {},
   "source": [
    "Так, повизуализируем!"
   ]
  },
  {
   "cell_type": "markdown",
   "metadata": {},
   "source": [
    "Очень хочется узнать корреляцию между всеми изначально имевшимися числовыми показателями"
   ]
  },
  {
   "cell_type": "code",
   "execution_count": 122,
   "metadata": {},
   "outputs": [
    {
     "data": {
      "image/png": "[encoded data removed]",
      "text/plain": [
       "<Figure size 720x504 with 2 Axes>"
      ]
     },
     "metadata": {
      "needs_background": "light"
     },
     "output_type": "display_data"
    }
   ],
   "source": [
    "plt.subplots(figsize=(10,7))\n",
    "sns.heatmap(df.corr(), annot=True, fmt='.2f', cmap='cividis');"
   ]
  },
  {
   "cell_type": "markdown",
   "metadata": {},
   "source": [
    "Построим график рассеивания между кассовыми сборами и кол-вом билетов"
   ]
  },
  {
   "cell_type": "code",
   "execution_count": 123,
   "metadata": {},
   "outputs": [
    {
     "data": {
      "image/png": "[encoded data removed]",
      "text/plain": [
       "<Figure size 1684.8x1190.88 with 6 Axes>"
      ]
     },
     "metadata": {
      "needs_background": "light"
     },
     "output_type": "display_data"
    }
   ],
   "source": [
    "sns_plot = sns.pairplot(df[['Box office', 'Кол-во билетов']], height=8.27, aspect=11.7/8.27)"
   ]
  },
  {
   "cell_type": "code",
   "execution_count": 124,
   "metadata": {},
   "outputs": [
    {
     "data": {
      "text/html": [
       "<div>\n",
       "<style scoped>\n",
       "    .dataframe tbody tr th:only-of-type {\n",
       "        vertical-align: middle;\n",
       "    }\n",
       "\n",
       "    .dataframe tbody tr th {\n",
       "        vertical-align: top;\n",
       "    }\n",
       "\n",
       "    .dataframe thead th {\n",
       "        text-align: right;\n",
       "    }\n",
       "</style>\n",
       "<table border=\"1\" class=\"dataframe\">\n",
       "  <thead>\n",
       "    <tr style=\"text-align: right;\">\n",
       "      <th></th>\n",
       "      <th>Компания</th>\n",
       "      <th>Кол-во фильмов</th>\n",
       "      <th>Box office</th>\n",
       "      <th>Кол-во билетов</th>\n",
       "      <th>Год</th>\n",
       "      <th>Среднее кол-во посетителей</th>\n",
       "      <th>Средний бюджет</th>\n",
       "    </tr>\n",
       "  </thead>\n",
       "  <tbody>\n",
       "    <tr>\n",
       "      <td>329</td>\n",
       "      <td>Warner Bros.</td>\n",
       "      <td>795.0</td>\n",
       "      <td>35452249342</td>\n",
       "      <td>5.112650e+09</td>\n",
       "      <td>50175</td>\n",
       "      <td>164199562</td>\n",
       "      <td>1117825079</td>\n",
       "    </tr>\n",
       "    <tr>\n",
       "      <td>284</td>\n",
       "      <td>Sony Pictures</td>\n",
       "      <td>718.0</td>\n",
       "      <td>28393618110</td>\n",
       "      <td>4.216652e+09</td>\n",
       "      <td>50175</td>\n",
       "      <td>149662775</td>\n",
       "      <td>1038954887</td>\n",
       "    </tr>\n",
       "    <tr>\n",
       "      <td>327</td>\n",
       "      <td>Walt Disney</td>\n",
       "      <td>567.0</td>\n",
       "      <td>39474626801</td>\n",
       "      <td>5.644552e+09</td>\n",
       "      <td>50175</td>\n",
       "      <td>286212428</td>\n",
       "      <td>2150576415</td>\n",
       "    </tr>\n",
       "    <tr>\n",
       "      <td>2</td>\n",
       "      <td>20th Century Fox</td>\n",
       "      <td>516.0</td>\n",
       "      <td>25808587001</td>\n",
       "      <td>3.787295e+09</td>\n",
       "      <td>50175</td>\n",
       "      <td>183657878</td>\n",
       "      <td>1242471094</td>\n",
       "    </tr>\n",
       "    <tr>\n",
       "      <td>285</td>\n",
       "      <td>Sony Pictures Classics</td>\n",
       "      <td>512.0</td>\n",
       "      <td>1189798137</td>\n",
       "      <td>1.795166e+08</td>\n",
       "      <td>50175</td>\n",
       "      <td>9044646</td>\n",
       "      <td>58640269</td>\n",
       "    </tr>\n",
       "    <tr>\n",
       "      <td>...</td>\n",
       "      <td>...</td>\n",
       "      <td>...</td>\n",
       "      <td>...</td>\n",
       "      <td>...</td>\n",
       "      <td>...</td>\n",
       "      <td>...</td>\n",
       "      <td>...</td>\n",
       "    </tr>\n",
       "    <tr>\n",
       "      <td>259</td>\n",
       "      <td>Riverrain</td>\n",
       "      <td>1.0</td>\n",
       "      <td>1687000</td>\n",
       "      <td>1.880710e+05</td>\n",
       "      <td>2017</td>\n",
       "      <td>188071</td>\n",
       "      <td>1687000</td>\n",
       "    </tr>\n",
       "    <tr>\n",
       "      <td>146</td>\n",
       "      <td>Hombre de Oro</td>\n",
       "      <td>1.0</td>\n",
       "      <td>886410</td>\n",
       "      <td>1.644540e+05</td>\n",
       "      <td>2000</td>\n",
       "      <td>164454</td>\n",
       "      <td>886410</td>\n",
       "    </tr>\n",
       "    <tr>\n",
       "      <td>154</td>\n",
       "      <td>Independent Artists</td>\n",
       "      <td>1.0</td>\n",
       "      <td>2793776</td>\n",
       "      <td>5.499550e+05</td>\n",
       "      <td>1999</td>\n",
       "      <td>549955</td>\n",
       "      <td>2793776</td>\n",
       "    </tr>\n",
       "    <tr>\n",
       "      <td>155</td>\n",
       "      <td>Independent Indian</td>\n",
       "      <td>1.0</td>\n",
       "      <td>880000</td>\n",
       "      <td>1.017340e+05</td>\n",
       "      <td>2016</td>\n",
       "      <td>101734</td>\n",
       "      <td>880000</td>\n",
       "    </tr>\n",
       "    <tr>\n",
       "      <td>0</td>\n",
       "      <td>101 Studios</td>\n",
       "      <td>1.0</td>\n",
       "      <td>5978673</td>\n",
       "      <td>6.562750e+05</td>\n",
       "      <td>2019</td>\n",
       "      <td>656275</td>\n",
       "      <td>5978673</td>\n",
       "    </tr>\n",
       "  </tbody>\n",
       "</table>\n",
       "<p>343 rows × 7 columns</p>\n",
       "</div>"
      ],
      "text/plain": [
       "                   Компания  Кол-во фильмов   Box office  Кол-во билетов  \\\n",
       "329            Warner Bros.           795.0  35452249342    5.112650e+09   \n",
       "284           Sony Pictures           718.0  28393618110    4.216652e+09   \n",
       "327             Walt Disney           567.0  39474626801    5.644552e+09   \n",
       "2          20th Century Fox           516.0  25808587001    3.787295e+09   \n",
       "285  Sony Pictures Classics           512.0   1189798137    1.795166e+08   \n",
       "..                      ...             ...          ...             ...   \n",
       "259               Riverrain             1.0      1687000    1.880710e+05   \n",
       "146           Hombre de Oro             1.0       886410    1.644540e+05   \n",
       "154     Independent Artists             1.0      2793776    5.499550e+05   \n",
       "155      Independent Indian             1.0       880000    1.017340e+05   \n",
       "0               101 Studios             1.0      5978673    6.562750e+05   \n",
       "\n",
       "       Год  Среднее кол-во посетителей  Средний бюджет  \n",
       "329  50175                   164199562      1117825079  \n",
       "284  50175                   149662775      1038954887  \n",
       "327  50175                   286212428      2150576415  \n",
       "2    50175                   183657878      1242471094  \n",
       "285  50175                     9044646        58640269  \n",
       "..     ...                         ...             ...  \n",
       "259   2017                      188071         1687000  \n",
       "146   2000                      164454          886410  \n",
       "154   1999                      549955         2793776  \n",
       "155   2016                      101734          880000  \n",
       "0     2019                      656275         5978673  \n",
       "\n",
       "[343 rows x 7 columns]"
      ]
     },
     "execution_count": 124,
     "metadata": {},
     "output_type": "execute_result"
    }
   ],
   "source": [
    "data = df.groupby('Компания', as_index=False).sum()\n",
    "data = data.sort_values('Кол-во фильмов', ascending=False)\n",
    "data"
   ]
  },
  {
   "cell_type": "code",
   "execution_count": 125,
   "metadata": {},
   "outputs": [
    {
     "data": {
      "application/vnd.plotly.v1+json": {
       "config": {
        "plotlyServerURL": "https://plot.ly"
       },
       "data": [
        {
         "alignmentgroup": "True",
         "hovertemplate": "Компания=%{x}<br>Кол-во фильмов=%{y}<extra></extra>",
         "legendgroup": "",
         "marker": {
          "color": "#636efa"
         },
         "name": "",
         "offsetgroup": "",
         "orientation": "v",
         "showlegend": false,
         "textposition": "auto",
         "type": "bar",
         "x": [
          "Warner Bros.",
          "Sony Pictures",
          "Walt Disney",
          "20th Century Fox",
          "Sony Pictures Classics",
          "Universal",
          "Paramount Pictures",
          "IFC Films",
          "Lionsgate",
          "Miramax",
          "Magnolia Pictures",
          "MGM",
          "Fox Searchlight",
          "Kino Lorber",
          "New Line",
          "Focus Features",
          "Strand",
          "Weinstein Co.",
          "Roadside Attractions",
          "Eros Entertainment"
         ],
         "xaxis": "x",
         "y": [
          795,
          718,
          567,
          516,
          512,
          502,
          477,
          435,
          410,
          381,
          368,
          235,
          225,
          222,
          206,
          178,
          174,
          173,
          149,
          144
         ],
         "yaxis": "y"
        }
       ],
       "layout": {
        "barmode": "relative",
        "height": 800,
        "legend": {
         "tracegroupgap": 0
        },
        "template": {
         "data": {
          "bar": [
           {
            "error_x": {
             "color": "#2a3f5f"
            },
            "error_y": {
             "color": "#2a3f5f"
            },
            "marker": {
             "line": {
              "color": "#E5ECF6",
              "width": 0.5
             }
            },
            "type": "bar"
           }
          ],
          "barpolar": [
           {
            "marker": {
             "line": {
              "color": "#E5ECF6",
              "width": 0.5
             }
            },
            "type": "barpolar"
           }
          ],
          "carpet": [
           {
            "aaxis": {
             "endlinecolor": "#2a3f5f",
             "gridcolor": "white",
             "linecolor": "white",
             "minorgridcolor": "white",
             "startlinecolor": "#2a3f5f"
            },
            "baxis": {
             "endlinecolor": "#2a3f5f",
             "gridcolor": "white",
             "linecolor": "white",
             "minorgridcolor": "white",
             "startlinecolor": "#2a3f5f"
            },
            "type": "carpet"
           }
          ],
          "choropleth": [
           {
            "colorbar": {
             "outlinewidth": 0,
             "ticks": ""
            },
            "type": "choropleth"
           }
          ],
          "contour": [
           {
            "colorbar": {
             "outlinewidth": 0,
             "ticks": ""
            },
            "colorscale": [
             [
              0,
              "#0d0887"
             ],
             [
              0.1111111111111111,
              "#46039f"
             ],
             [
              0.2222222222222222,
              "#7201a8"
             ],
             [
              0.3333333333333333,
              "#9c179e"
             ],
             [
              0.4444444444444444,
              "#bd3786"
             ],
             [
              0.5555555555555556,
              "#d8576b"
             ],
             [
              0.6666666666666666,
              "#ed7953"
             ],
             [
              0.7777777777777778,
              "#fb9f3a"
             ],
             [
              0.8888888888888888,
              "#fdca26"
             ],
             [
              1,
              "#f0f921"
             ]
            ],
            "type": "contour"
           }
          ],
          "contourcarpet": [
           {
            "colorbar": {
             "outlinewidth": 0,
             "ticks": ""
            },
            "type": "contourcarpet"
           }
          ],
          "heatmap": [
           {
            "colorbar": {
             "outlinewidth": 0,
             "ticks": ""
            },
            "colorscale": [
             [
              0,
              "#0d0887"
             ],
             [
              0.1111111111111111,
              "#46039f"
             ],
             [
              0.2222222222222222,
              "#7201a8"
             ],
             [
              0.3333333333333333,
              "#9c179e"
             ],
             [
              0.4444444444444444,
              "#bd3786"
             ],
             [
              0.5555555555555556,
              "#d8576b"
             ],
             [
              0.6666666666666666,
              "#ed7953"
             ],
             [
              0.7777777777777778,
              "#fb9f3a"
             ],
             [
              0.8888888888888888,
              "#fdca26"
             ],
             [
              1,
              "#f0f921"
             ]
            ],
            "type": "heatmap"
           }
          ],
          "heatmapgl": [
           {
            "colorbar": {
             "outlinewidth": 0,
             "ticks": ""
            },
            "colorscale": [
             [
              0,
              "#0d0887"
             ],
             [
              0.1111111111111111,
              "#46039f"
             ],
             [
              0.2222222222222222,
              "#7201a8"
             ],
             [
              0.3333333333333333,
              "#9c179e"
             ],
             [
              0.4444444444444444,
              "#bd3786"
             ],
             [
              0.5555555555555556,
              "#d8576b"
             ],
             [
              0.6666666666666666,
              "#ed7953"
             ],
             [
              0.7777777777777778,
              "#fb9f3a"
             ],
             [
              0.8888888888888888,
              "#fdca26"
             ],
             [
              1,
              "#f0f921"
             ]
            ],
            "type": "heatmapgl"
           }
          ],
          "histogram": [
           {
            "marker": {
             "colorbar": {
              "outlinewidth": 0,
              "ticks": ""
             }
            },
            "type": "histogram"
           }
          ],
          "histogram2d": [
           {
            "colorbar": {
             "outlinewidth": 0,
             "ticks": ""
            },
            "colorscale": [
             [
              0,
              "#0d0887"
             ],
             [
              0.1111111111111111,
              "#46039f"
             ],
             [
              0.2222222222222222,
              "#7201a8"
             ],
             [
              0.3333333333333333,
              "#9c179e"
             ],
             [
              0.4444444444444444,
              "#bd3786"
             ],
             [
              0.5555555555555556,
              "#d8576b"
             ],
             [
              0.6666666666666666,
              "#ed7953"
             ],
             [
              0.7777777777777778,
              "#fb9f3a"
             ],
             [
              0.8888888888888888,
              "#fdca26"
             ],
             [
              1,
              "#f0f921"
             ]
            ],
            "type": "histogram2d"
           }
          ],
          "histogram2dcontour": [
           {
            "colorbar": {
             "outlinewidth": 0,
             "ticks": ""
            },
            "colorscale": [
             [
              0,
              "#0d0887"
             ],
             [
              0.1111111111111111,
              "#46039f"
             ],
             [
              0.2222222222222222,
              "#7201a8"
             ],
             [
              0.3333333333333333,
              "#9c179e"
             ],
             [
              0.4444444444444444,
              "#bd3786"
             ],
             [
              0.5555555555555556,
              "#d8576b"
             ],
             [
              0.6666666666666666,
              "#ed7953"
             ],
             [
              0.7777777777777778,
              "#fb9f3a"
             ],
             [
              0.8888888888888888,
              "#fdca26"
             ],
             [
              1,
              "#f0f921"
             ]
            ],
            "type": "histogram2dcontour"
           }
          ],
          "mesh3d": [
           {
            "colorbar": {
             "outlinewidth": 0,
             "ticks": ""
            },
            "type": "mesh3d"
           }
          ],
          "parcoords": [
           {
            "line": {
             "colorbar": {
              "outlinewidth": 0,
              "ticks": ""
             }
            },
            "type": "parcoords"
           }
          ],
          "pie": [
           {
            "automargin": true,
            "type": "pie"
           }
          ],
          "scatter": [
           {
            "marker": {
             "colorbar": {
              "outlinewidth": 0,
              "ticks": ""
             }
            },
            "type": "scatter"
           }
          ],
          "scatter3d": [
           {
            "line": {
             "colorbar": {
              "outlinewidth": 0,
              "ticks": ""
             }
            },
            "marker": {
             "colorbar": {
              "outlinewidth": 0,
              "ticks": ""
             }
            },
            "type": "scatter3d"
           }
          ],
          "scattercarpet": [
           {
            "marker": {
             "colorbar": {
              "outlinewidth": 0,
              "ticks": ""
             }
            },
            "type": "scattercarpet"
           }
          ],
          "scattergeo": [
           {
            "marker": {
             "colorbar": {
              "outlinewidth": 0,
              "ticks": ""
             }
            },
            "type": "scattergeo"
           }
          ],
          "scattergl": [
           {
            "marker": {
             "colorbar": {
              "outlinewidth": 0,
              "ticks": ""
             }
            },
            "type": "scattergl"
           }
          ],
          "scattermapbox": [
           {
            "marker": {
             "colorbar": {
              "outlinewidth": 0,
              "ticks": ""
             }
            },
            "type": "scattermapbox"
           }
          ],
          "scatterpolar": [
           {
            "marker": {
             "colorbar": {
              "outlinewidth": 0,
              "ticks": ""
             }
            },
            "type": "scatterpolar"
           }
          ],
          "scatterpolargl": [
           {
            "marker": {
             "colorbar": {
              "outlinewidth": 0,
              "ticks": ""
             }
            },
            "type": "scatterpolargl"
           }
          ],
          "scatterternary": [
           {
            "marker": {
             "colorbar": {
              "outlinewidth": 0,
              "ticks": ""
             }
            },
            "type": "scatterternary"
           }
          ],
          "surface": [
           {
            "colorbar": {
             "outlinewidth": 0,
             "ticks": ""
            },
            "colorscale": [
             [
              0,
              "#0d0887"
             ],
             [
              0.1111111111111111,
              "#46039f"
             ],
             [
              0.2222222222222222,
              "#7201a8"
             ],
             [
              0.3333333333333333,
              "#9c179e"
             ],
             [
              0.4444444444444444,
              "#bd3786"
             ],
             [
              0.5555555555555556,
              "#d8576b"
             ],
             [
              0.6666666666666666,
              "#ed7953"
             ],
             [
              0.7777777777777778,
              "#fb9f3a"
             ],
             [
              0.8888888888888888,
              "#fdca26"
             ],
             [
              1,
              "#f0f921"
             ]
            ],
            "type": "surface"
           }
          ],
          "table": [
           {
            "cells": {
             "fill": {
              "color": "#EBF0F8"
             },
             "line": {
              "color": "white"
             }
            },
            "header": {
             "fill": {
              "color": "#C8D4E3"
             },
             "line": {
              "color": "white"
             }
            },
            "type": "table"
           }
          ]
         },
         "layout": {
          "annotationdefaults": {
           "arrowcolor": "#2a3f5f",
           "arrowhead": 0,
           "arrowwidth": 1
          },
          "coloraxis": {
           "colorbar": {
            "outlinewidth": 0,
            "ticks": ""
           }
          },
          "colorscale": {
           "diverging": [
            [
             0,
             "#8e0152"
            ],
            [
             0.1,
             "#c51b7d"
            ],
            [
             0.2,
             "#de77ae"
            ],
            [
             0.3,
             "#f1b6da"
            ],
            [
             0.4,
             "#fde0ef"
            ],
            [
             0.5,
             "#f7f7f7"
            ],
            [
             0.6,
             "#e6f5d0"
            ],
            [
             0.7,
             "#b8e186"
            ],
            [
             0.8,
             "#7fbc41"
            ],
            [
             0.9,
             "#4d9221"
            ],
            [
             1,
             "#276419"
            ]
           ],
           "sequential": [
            [
             0,
             "#0d0887"
            ],
            [
             0.1111111111111111,
             "#46039f"
            ],
            [
             0.2222222222222222,
             "#7201a8"
            ],
            [
             0.3333333333333333,
             "#9c179e"
            ],
            [
             0.4444444444444444,
             "#bd3786"
            ],
            [
             0.5555555555555556,
             "#d8576b"
            ],
            [
             0.6666666666666666,
             "#ed7953"
            ],
            [
             0.7777777777777778,
             "#fb9f3a"
            ],
            [
             0.8888888888888888,
             "#fdca26"
            ],
            [
             1,
             "#f0f921"
            ]
           ],
           "sequentialminus": [
            [
             0,
             "#0d0887"
            ],
            [
             0.1111111111111111,
             "#46039f"
            ],
            [
             0.2222222222222222,
             "#7201a8"
            ],
            [
             0.3333333333333333,
             "#9c179e"
            ],
            [
             0.4444444444444444,
             "#bd3786"
            ],
            [
             0.5555555555555556,
             "#d8576b"
            ],
            [
             0.6666666666666666,
             "#ed7953"
            ],
            [
             0.7777777777777778,
             "#fb9f3a"
            ],
            [
             0.8888888888888888,
             "#fdca26"
            ],
            [
             1,
             "#f0f921"
            ]
           ]
          },
          "colorway": [
           "#636efa",
           "#EF553B",
           "#00cc96",
           "#ab63fa",
           "#FFA15A",
           "#19d3f3",
           "#FF6692",
           "#B6E880",
           "#FF97FF",
           "#FECB52"
          ],
          "font": {
           "color": "#2a3f5f"
          },
          "geo": {
           "bgcolor": "white",
           "lakecolor": "white",
           "landcolor": "#E5ECF6",
           "showlakes": true,
           "showland": true,
           "subunitcolor": "white"
          },
          "hoverlabel": {
           "align": "left"
          },
          "hovermode": "closest",
          "mapbox": {
           "style": "light"
          },
          "paper_bgcolor": "white",
          "plot_bgcolor": "#E5ECF6",
          "polar": {
           "angularaxis": {
            "gridcolor": "white",
            "linecolor": "white",
            "ticks": ""
           },
           "bgcolor": "#E5ECF6",
           "radialaxis": {
            "gridcolor": "white",
            "linecolor": "white",
            "ticks": ""
           }
          },
          "scene": {
           "xaxis": {
            "backgroundcolor": "#E5ECF6",
            "gridcolor": "white",
            "gridwidth": 2,
            "linecolor": "white",
            "showbackground": true,
            "ticks": "",
            "zerolinecolor": "white"
           },
           "yaxis": {
            "backgroundcolor": "#E5ECF6",
            "gridcolor": "white",
            "gridwidth": 2,
            "linecolor": "white",
            "showbackground": true,
            "ticks": "",
            "zerolinecolor": "white"
           },
           "zaxis": {
            "backgroundcolor": "#E5ECF6",
            "gridcolor": "white",
            "gridwidth": 2,
            "linecolor": "white",
            "showbackground": true,
            "ticks": "",
            "zerolinecolor": "white"
           }
          },
          "shapedefaults": {
           "line": {
            "color": "#2a3f5f"
           }
          },
          "ternary": {
           "aaxis": {
            "gridcolor": "white",
            "linecolor": "white",
            "ticks": ""
           },
           "baxis": {
            "gridcolor": "white",
            "linecolor": "white",
            "ticks": ""
           },
           "bgcolor": "#E5ECF6",
           "caxis": {
            "gridcolor": "white",
            "linecolor": "white",
            "ticks": ""
           }
          },
          "title": {
           "x": 0.05
          },
          "xaxis": {
           "automargin": true,
           "gridcolor": "white",
           "linecolor": "white",
           "ticks": "",
           "title": {
            "standoff": 15
           },
           "zerolinecolor": "white",
           "zerolinewidth": 2
          },
          "yaxis": {
           "automargin": true,
           "gridcolor": "white",
           "linecolor": "white",
           "ticks": "",
           "title": {
            "standoff": 15
           },
           "zerolinecolor": "white",
           "zerolinewidth": 2
          }
         }
        },
        "title": {
         "text": "Количество фильмов разных студий"
        },
        "width": 1000,
        "xaxis": {
         "anchor": "y",
         "domain": [
          0,
          1
         ],
         "title": {
          "text": "Компания"
         }
        },
        "yaxis": {
         "anchor": "x",
         "domain": [
          0,
          1
         ],
         "title": {
          "text": "Кол-во фильмов"
         }
        }
       }
      },
      "text/html": [
       "<div>\n",
       "        \n",
       "        \n",
       "            <div id=\"4f21331c-e281-446e-850c-892791a5d77b\" class=\"plotly-graph-div\" style=\"height:800px; width:1000px;\"></div>\n",
       "            <script type=\"text/javascript\">\n",
       "                require([\"plotly\"], function(Plotly) {\n",
       "                    window.PLOTLYENV=window.PLOTLYENV || {};\n",
       "                    \n",
       "                if (document.getElementById(\"4f21331c-e281-446e-850c-892791a5d77b\")) {\n",
       "                    Plotly.newPlot(\n",
       "                        '4f21331c-e281-446e-850c-892791a5d77b',\n",
       "                        [{\"alignmentgroup\": \"True\", \"hovertemplate\": \"\\u041a\\u043e\\u043c\\u043f\\u0430\\u043d\\u0438\\u044f=%{x}<br>\\u041a\\u043e\\u043b-\\u0432\\u043e \\u0444\\u0438\\u043b\\u044c\\u043c\\u043e\\u0432=%{y}<extra></extra>\", \"legendgroup\": \"\", \"marker\": {\"color\": \"#636efa\"}, \"name\": \"\", \"offsetgroup\": \"\", \"orientation\": \"v\", \"showlegend\": false, \"textposition\": \"auto\", \"type\": \"bar\", \"x\": [\"Warner Bros.\", \"Sony Pictures\", \"Walt Disney\", \"20th Century Fox\", \"Sony Pictures Classics\", \"Universal\", \"Paramount Pictures\", \"IFC Films\", \"Lionsgate\", \"Miramax\", \"Magnolia Pictures\", \"MGM\", \"Fox Searchlight\", \"Kino Lorber\", \"New Line\", \"Focus Features\", \"Strand\", \"Weinstein Co.\", \"Roadside Attractions\", \"Eros Entertainment\"], \"xaxis\": \"x\", \"y\": [795.0, 718.0, 567.0, 516.0, 512.0, 502.0, 477.0, 435.0, 410.0, 381.0, 368.0, 235.0, 225.0, 222.0, 206.0, 178.0, 174.0, 173.0, 149.0, 144.0], \"yaxis\": \"y\"}],\n",
       "                        {\"barmode\": \"relative\", \"height\": 800, \"legend\": {\"tracegroupgap\": 0}, \"template\": {\"data\": {\"bar\": [{\"error_x\": {\"color\": \"#2a3f5f\"}, \"error_y\": {\"color\": \"#2a3f5f\"}, \"marker\": {\"line\": {\"color\": \"#E5ECF6\", \"width\": 0.5}}, \"type\": \"bar\"}], \"barpolar\": [{\"marker\": {\"line\": {\"color\": \"#E5ECF6\", \"width\": 0.5}}, \"type\": \"barpolar\"}], \"carpet\": [{\"aaxis\": {\"endlinecolor\": \"#2a3f5f\", \"gridcolor\": \"white\", \"linecolor\": \"white\", \"minorgridcolor\": \"white\", \"startlinecolor\": \"#2a3f5f\"}, \"baxis\": {\"endlinecolor\": \"#2a3f5f\", \"gridcolor\": \"white\", \"linecolor\": \"white\", \"minorgridcolor\": \"white\", \"startlinecolor\": \"#2a3f5f\"}, \"type\": \"carpet\"}], \"choropleth\": [{\"colorbar\": {\"outlinewidth\": 0, \"ticks\": \"\"}, \"type\": \"choropleth\"}], \"contour\": [{\"colorbar\": {\"outlinewidth\": 0, \"ticks\": \"\"}, \"colorscale\": [[0.0, \"#0d0887\"], [0.1111111111111111, \"#46039f\"], [0.2222222222222222, \"#7201a8\"], [0.3333333333333333, \"#9c179e\"], [0.4444444444444444, \"#bd3786\"], [0.5555555555555556, \"#d8576b\"], [0.6666666666666666, \"#ed7953\"], [0.7777777777777778, \"#fb9f3a\"], [0.8888888888888888, \"#fdca26\"], [1.0, \"#f0f921\"]], \"type\": \"contour\"}], \"contourcarpet\": [{\"colorbar\": {\"outlinewidth\": 0, \"ticks\": \"\"}, \"type\": \"contourcarpet\"}], \"heatmap\": [{\"colorbar\": {\"outlinewidth\": 0, \"ticks\": \"\"}, \"colorscale\": [[0.0, \"#0d0887\"], [0.1111111111111111, \"#46039f\"], [0.2222222222222222, \"#7201a8\"], [0.3333333333333333, \"#9c179e\"], [0.4444444444444444, \"#bd3786\"], [0.5555555555555556, \"#d8576b\"], [0.6666666666666666, \"#ed7953\"], [0.7777777777777778, \"#fb9f3a\"], [0.8888888888888888, \"#fdca26\"], [1.0, \"#f0f921\"]], \"type\": \"heatmap\"}], \"heatmapgl\": [{\"colorbar\": {\"outlinewidth\": 0, \"ticks\": \"\"}, \"colorscale\": [[0.0, \"#0d0887\"], [0.1111111111111111, \"#46039f\"], [0.2222222222222222, \"#7201a8\"], [0.3333333333333333, \"#9c179e\"], [0.4444444444444444, \"#bd3786\"], [0.5555555555555556, \"#d8576b\"], [0.6666666666666666, \"#ed7953\"], [0.7777777777777778, \"#fb9f3a\"], [0.8888888888888888, \"#fdca26\"], [1.0, \"#f0f921\"]], \"type\": \"heatmapgl\"}], \"histogram\": [{\"marker\": {\"colorbar\": {\"outlinewidth\": 0, \"ticks\": \"\"}}, \"type\": \"histogram\"}], \"histogram2d\": [{\"colorbar\": {\"outlinewidth\": 0, \"ticks\": \"\"}, \"colorscale\": [[0.0, \"#0d0887\"], [0.1111111111111111, \"#46039f\"], [0.2222222222222222, \"#7201a8\"], [0.3333333333333333, \"#9c179e\"], [0.4444444444444444, \"#bd3786\"], [0.5555555555555556, \"#d8576b\"], [0.6666666666666666, \"#ed7953\"], [0.7777777777777778, \"#fb9f3a\"], [0.8888888888888888, \"#fdca26\"], [1.0, \"#f0f921\"]], \"type\": \"histogram2d\"}], \"histogram2dcontour\": [{\"colorbar\": {\"outlinewidth\": 0, \"ticks\": \"\"}, \"colorscale\": [[0.0, \"#0d0887\"], [0.1111111111111111, \"#46039f\"], [0.2222222222222222, \"#7201a8\"], [0.3333333333333333, \"#9c179e\"], [0.4444444444444444, \"#bd3786\"], [0.5555555555555556, \"#d8576b\"], [0.6666666666666666, \"#ed7953\"], [0.7777777777777778, \"#fb9f3a\"], [0.8888888888888888, \"#fdca26\"], [1.0, \"#f0f921\"]], \"type\": \"histogram2dcontour\"}], \"mesh3d\": [{\"colorbar\": {\"outlinewidth\": 0, \"ticks\": \"\"}, \"type\": \"mesh3d\"}], \"parcoords\": [{\"line\": {\"colorbar\": {\"outlinewidth\": 0, \"ticks\": \"\"}}, \"type\": \"parcoords\"}], \"pie\": [{\"automargin\": true, \"type\": \"pie\"}], \"scatter\": [{\"marker\": {\"colorbar\": {\"outlinewidth\": 0, \"ticks\": \"\"}}, \"type\": \"scatter\"}], \"scatter3d\": [{\"line\": {\"colorbar\": {\"outlinewidth\": 0, \"ticks\": \"\"}}, \"marker\": {\"colorbar\": {\"outlinewidth\": 0, \"ticks\": \"\"}}, \"type\": \"scatter3d\"}], \"scattercarpet\": [{\"marker\": {\"colorbar\": {\"outlinewidth\": 0, \"ticks\": \"\"}}, \"type\": \"scattercarpet\"}], \"scattergeo\": [{\"marker\": {\"colorbar\": {\"outlinewidth\": 0, \"ticks\": \"\"}}, \"type\": \"scattergeo\"}], \"scattergl\": [{\"marker\": {\"colorbar\": {\"outlinewidth\": 0, \"ticks\": \"\"}}, \"type\": \"scattergl\"}], \"scattermapbox\": [{\"marker\": {\"colorbar\": {\"outlinewidth\": 0, \"ticks\": \"\"}}, \"type\": \"scattermapbox\"}], \"scatterpolar\": [{\"marker\": {\"colorbar\": {\"outlinewidth\": 0, \"ticks\": \"\"}}, \"type\": \"scatterpolar\"}], \"scatterpolargl\": [{\"marker\": {\"colorbar\": {\"outlinewidth\": 0, \"ticks\": \"\"}}, \"type\": \"scatterpolargl\"}], \"scatterternary\": [{\"marker\": {\"colorbar\": {\"outlinewidth\": 0, \"ticks\": \"\"}}, \"type\": \"scatterternary\"}], \"surface\": [{\"colorbar\": {\"outlinewidth\": 0, \"ticks\": \"\"}, \"colorscale\": [[0.0, \"#0d0887\"], [0.1111111111111111, \"#46039f\"], [0.2222222222222222, \"#7201a8\"], [0.3333333333333333, \"#9c179e\"], [0.4444444444444444, \"#bd3786\"], [0.5555555555555556, \"#d8576b\"], [0.6666666666666666, \"#ed7953\"], [0.7777777777777778, \"#fb9f3a\"], [0.8888888888888888, \"#fdca26\"], [1.0, \"#f0f921\"]], \"type\": \"surface\"}], \"table\": [{\"cells\": {\"fill\": {\"color\": \"#EBF0F8\"}, \"line\": {\"color\": \"white\"}}, \"header\": {\"fill\": {\"color\": \"#C8D4E3\"}, \"line\": {\"color\": \"white\"}}, \"type\": \"table\"}]}, \"layout\": {\"annotationdefaults\": {\"arrowcolor\": \"#2a3f5f\", \"arrowhead\": 0, \"arrowwidth\": 1}, \"coloraxis\": {\"colorbar\": {\"outlinewidth\": 0, \"ticks\": \"\"}}, \"colorscale\": {\"diverging\": [[0, \"#8e0152\"], [0.1, \"#c51b7d\"], [0.2, \"#de77ae\"], [0.3, \"#f1b6da\"], [0.4, \"#fde0ef\"], [0.5, \"#f7f7f7\"], [0.6, \"#e6f5d0\"], [0.7, \"#b8e186\"], [0.8, \"#7fbc41\"], [0.9, \"#4d9221\"], [1, \"#276419\"]], \"sequential\": [[0.0, \"#0d0887\"], [0.1111111111111111, \"#46039f\"], [0.2222222222222222, \"#7201a8\"], [0.3333333333333333, \"#9c179e\"], [0.4444444444444444, \"#bd3786\"], [0.5555555555555556, \"#d8576b\"], [0.6666666666666666, \"#ed7953\"], [0.7777777777777778, \"#fb9f3a\"], [0.8888888888888888, \"#fdca26\"], [1.0, \"#f0f921\"]], \"sequentialminus\": [[0.0, \"#0d0887\"], [0.1111111111111111, \"#46039f\"], [0.2222222222222222, \"#7201a8\"], [0.3333333333333333, \"#9c179e\"], [0.4444444444444444, \"#bd3786\"], [0.5555555555555556, \"#d8576b\"], [0.6666666666666666, \"#ed7953\"], [0.7777777777777778, \"#fb9f3a\"], [0.8888888888888888, \"#fdca26\"], [1.0, \"#f0f921\"]]}, \"colorway\": [\"#636efa\", \"#EF553B\", \"#00cc96\", \"#ab63fa\", \"#FFA15A\", \"#19d3f3\", \"#FF6692\", \"#B6E880\", \"#FF97FF\", \"#FECB52\"], \"font\": {\"color\": \"#2a3f5f\"}, \"geo\": {\"bgcolor\": \"white\", \"lakecolor\": \"white\", \"landcolor\": \"#E5ECF6\", \"showlakes\": true, \"showland\": true, \"subunitcolor\": \"white\"}, \"hoverlabel\": {\"align\": \"left\"}, \"hovermode\": \"closest\", \"mapbox\": {\"style\": \"light\"}, \"paper_bgcolor\": \"white\", \"plot_bgcolor\": \"#E5ECF6\", \"polar\": {\"angularaxis\": {\"gridcolor\": \"white\", \"linecolor\": \"white\", \"ticks\": \"\"}, \"bgcolor\": \"#E5ECF6\", \"radialaxis\": {\"gridcolor\": \"white\", \"linecolor\": \"white\", \"ticks\": \"\"}}, \"scene\": {\"xaxis\": {\"backgroundcolor\": \"#E5ECF6\", \"gridcolor\": \"white\", \"gridwidth\": 2, \"linecolor\": \"white\", \"showbackground\": true, \"ticks\": \"\", \"zerolinecolor\": \"white\"}, \"yaxis\": {\"backgroundcolor\": \"#E5ECF6\", \"gridcolor\": \"white\", \"gridwidth\": 2, \"linecolor\": \"white\", \"showbackground\": true, \"ticks\": \"\", \"zerolinecolor\": \"white\"}, \"zaxis\": {\"backgroundcolor\": \"#E5ECF6\", \"gridcolor\": \"white\", \"gridwidth\": 2, \"linecolor\": \"white\", \"showbackground\": true, \"ticks\": \"\", \"zerolinecolor\": \"white\"}}, \"shapedefaults\": {\"line\": {\"color\": \"#2a3f5f\"}}, \"ternary\": {\"aaxis\": {\"gridcolor\": \"white\", \"linecolor\": \"white\", \"ticks\": \"\"}, \"baxis\": {\"gridcolor\": \"white\", \"linecolor\": \"white\", \"ticks\": \"\"}, \"bgcolor\": \"#E5ECF6\", \"caxis\": {\"gridcolor\": \"white\", \"linecolor\": \"white\", \"ticks\": \"\"}}, \"title\": {\"x\": 0.05}, \"xaxis\": {\"automargin\": true, \"gridcolor\": \"white\", \"linecolor\": \"white\", \"ticks\": \"\", \"title\": {\"standoff\": 15}, \"zerolinecolor\": \"white\", \"zerolinewidth\": 2}, \"yaxis\": {\"automargin\": true, \"gridcolor\": \"white\", \"linecolor\": \"white\", \"ticks\": \"\", \"title\": {\"standoff\": 15}, \"zerolinecolor\": \"white\", \"zerolinewidth\": 2}}}, \"title\": {\"text\": \"\\u041a\\u043e\\u043b\\u0438\\u0447\\u0435\\u0441\\u0442\\u0432\\u043e \\u0444\\u0438\\u043b\\u044c\\u043c\\u043e\\u0432 \\u0440\\u0430\\u0437\\u043d\\u044b\\u0445 \\u0441\\u0442\\u0443\\u0434\\u0438\\u0439\"}, \"width\": 1000, \"xaxis\": {\"anchor\": \"y\", \"domain\": [0.0, 1.0], \"title\": {\"text\": \"\\u041a\\u043e\\u043c\\u043f\\u0430\\u043d\\u0438\\u044f\"}}, \"yaxis\": {\"anchor\": \"x\", \"domain\": [0.0, 1.0], \"title\": {\"text\": \"\\u041a\\u043e\\u043b-\\u0432\\u043e \\u0444\\u0438\\u043b\\u044c\\u043c\\u043e\\u0432\"}}},\n",
       "                        {\"responsive\": true}\n",
       "                    ).then(function(){\n",
       "                            \n",
       "var gd = document.getElementById('4f21331c-e281-446e-850c-892791a5d77b');\n",
       "var x = new MutationObserver(function (mutations, observer) {{\n",
       "        var display = window.getComputedStyle(gd).display;\n",
       "        if (!display || display === 'none') {{\n",
       "            console.log([gd, 'removed!']);\n",
       "            Plotly.purge(gd);\n",
       "            observer.disconnect();\n",
       "        }}\n",
       "}});\n",
       "\n",
       "// Listen for the removal of the full notebook cells\n",
       "var notebookContainer = gd.closest('#notebook-container');\n",
       "if (notebookContainer) {{\n",
       "    x.observe(notebookContainer, {childList: true});\n",
       "}}\n",
       "\n",
       "// Listen for the clearing of the current output cell\n",
       "var outputEl = gd.closest('.output');\n",
       "if (outputEl) {{\n",
       "    x.observe(outputEl, {childList: true});\n",
       "}}\n",
       "\n",
       "                        })\n",
       "                };\n",
       "                });\n",
       "            </script>\n",
       "        </div>"
      ]
     },
     "metadata": {},
     "output_type": "display_data"
    }
   ],
   "source": [
    "data = df.groupby('Компания', as_index=False).sum()\n",
    "data = data.sort_values('Кол-во фильмов', ascending=False)\n",
    "\n",
    "\n",
    "fig = px.bar(data[:20],\n",
    "            x = 'Компания', \n",
    "            y='Кол-во фильмов',\n",
    "            title= 'Количество фильмов разных студий',\n",
    "            width=1000, height=800)\n",
    "fig.show()"
   ]
  },
  {
   "cell_type": "code",
   "execution_count": 130,
   "metadata": {},
   "outputs": [
    {
     "data": {
      "application/vnd.plotly.v1+json": {
       "config": {
        "plotlyServerURL": "https://plot.ly"
       },
       "data": [
        {
         "hovertemplate": "Компания=Warner Bros.<br>Год=%{x}<br>Процент от общего кол-ва=%{y}<extra></extra>",
         "legendgroup": "Warner Bros.",
         "marker": {
          "color": "#636efa",
          "symbol": "circle"
         },
         "mode": "markers",
         "name": "Warner Bros.",
         "showlegend": true,
         "type": "scatter",
         "x": [
          1995,
          1996,
          1997,
          1998,
          1999,
          2000,
          2001,
          2002,
          2003,
          2004,
          2005,
          2006,
          2007,
          2008,
          2009,
          2010,
          2011,
          2012,
          2013,
          2014,
          2015,
          2016,
          2017,
          2018,
          2019
         ],
         "xaxis": "x",
         "y": [
          "16.31%",
          "15.77%",
          "10.55%",
          "11.20%",
          "14.21%",
          "11.80%",
          "14.75%",
          "11.60%",
          "12.64%",
          "13.34%",
          "15.62%",
          "11.63%",
          "14.68%",
          "18.32%",
          "20.03%",
          "17.97%",
          "17.98%",
          "15.28%",
          "17.07%",
          "15.21%",
          "14.06%",
          "16.95%",
          "18.51%",
          "16.18%",
          "13.91%"
         ],
         "yaxis": "y"
        },
        {
         "hovertemplate": "Компания=Sony Pictures<br>Год=%{x}<br>Процент от общего кол-ва=%{y}<extra></extra>",
         "legendgroup": "Sony Pictures",
         "marker": {
          "color": "#EF553B",
          "symbol": "circle"
         },
         "mode": "markers",
         "name": "Sony Pictures",
         "showlegend": true,
         "type": "scatter",
         "x": [
          1995,
          1996,
          1997,
          1998,
          1999,
          2000,
          2001,
          2002,
          2003,
          2004,
          2005,
          2006,
          2007,
          2008,
          2009,
          2010,
          2011,
          2012,
          2013,
          2014,
          2015,
          2016,
          2017,
          2018,
          2019
         ],
         "xaxis": "x",
         "y": [
          "12.84%",
          "10.63%",
          "19.96%",
          "10.11%",
          "8.70%",
          "9.06%",
          "8.75%",
          "16.97%",
          "13.22%",
          "14.26%",
          "10.32%",
          "18.56%",
          "12.94%",
          "12.99%",
          "13.61%",
          "12.26%",
          "12.49%",
          "16.34%",
          "10.61%",
          "12.25%",
          "8.65%",
          "8.09%",
          "9.63%",
          "11.17%",
          "12.18%"
         ],
         "yaxis": "y"
        },
        {
         "hovertemplate": "Компания=Walt Disney<br>Год=%{x}<br>Процент от общего кол-ва=%{y}<extra></extra>",
         "legendgroup": "Walt Disney",
         "marker": {
          "color": "#00cc96",
          "symbol": "circle"
         },
         "mode": "markers",
         "name": "Walt Disney",
         "showlegend": true,
         "type": "scatter",
         "x": [
          1995,
          1996,
          1997,
          1998,
          1999,
          2000,
          2001,
          2002,
          2003,
          2004,
          2005,
          2006,
          2007,
          2008,
          2009,
          2010,
          2011,
          2012,
          2013,
          2014,
          2015,
          2016,
          2017,
          2018,
          2019
         ],
         "xaxis": "x",
         "y": [
          "19.04%",
          "20.76%",
          "13.93%",
          "16.38%",
          "16.95%",
          "14.75%",
          "10.79%",
          "12.84%",
          "16.56%",
          "12.46%",
          "10.44%",
          "16.20%",
          "14.41%",
          "10.26%",
          "11.33%",
          "13.98%",
          "12.04%",
          "14.25%",
          "15.97%",
          "15.59%",
          "20.98%",
          "26.07%",
          "21.74%",
          "26.24%",
          "33.15%"
         ],
         "yaxis": "y"
        },
        {
         "hovertemplate": "Компания=Universal<br>Год=%{x}<br>Процент от общего кол-ва=%{y}<extra></extra>",
         "legendgroup": "Universal",
         "marker": {
          "color": "#ab63fa",
          "symbol": "circle"
         },
         "mode": "markers",
         "name": "Universal",
         "showlegend": true,
         "type": "scatter",
         "x": [
          1995,
          1996,
          1997,
          1998,
          1999,
          2000,
          2001,
          2002,
          2003,
          2004,
          2005,
          2006,
          2007,
          2008,
          2009,
          2010,
          2011,
          2012,
          2013,
          2014,
          2015,
          2016,
          2017,
          2018,
          2019
         ],
         "xaxis": "x",
         "y": [
          "12.54%",
          "8.36%",
          "9.67%",
          "5.92%",
          "12.73%",
          "14.22%",
          "11.36%",
          "9.67%",
          "11.83%",
          "9.76%",
          "11.27%",
          "8.79%",
          "11.28%",
          "11.02%",
          "8.44%",
          "8.45%",
          "10.08%",
          "12.45%",
          "12.83%",
          "10.74%",
          "22.04%",
          "12.61%",
          "13.77%",
          "14.80%",
          "11.55%"
         ],
         "yaxis": "y"
        },
        {
         "hovertemplate": "Компания=20th Century Fox<br>Год=%{x}<br>Процент от общего кол-ва=%{y}<extra></extra>",
         "legendgroup": "20th Century Fox",
         "marker": {
          "color": "#FFA15A",
          "symbol": "circle"
         },
         "mode": "markers",
         "name": "20th Century Fox",
         "showlegend": true,
         "type": "scatter",
         "x": [
          1995,
          1996,
          1997,
          1998,
          1999,
          2000,
          2001,
          2002,
          2003,
          2004,
          2005,
          2006,
          2007,
          2008,
          2009,
          2010,
          2011,
          2012,
          2013,
          2014,
          2015,
          2016,
          2017,
          2018,
          2019
         ],
         "xaxis": "x",
         "y": [
          "7.73%",
          "12.67%",
          "10.13%",
          "10.78%",
          "10.91%",
          "9.70%",
          "10.33%",
          "10.72%",
          "8.69%",
          "9.86%",
          "15.37%",
          "15.18%",
          "10.51%",
          "10.75%",
          "13.72%",
          "13.28%",
          "9.66%",
          "9.37%",
          "9.82%",
          "17.22%",
          "11.68%",
          "13.05%",
          "12.06%",
          "9.13%",
          "4.36%"
         ],
         "yaxis": "y"
        }
       ],
       "layout": {
        "legend": {
         "title": {
          "text": "Компания"
         },
         "tracegroupgap": 0
        },
        "template": {
         "data": {
          "bar": [
           {
            "error_x": {
             "color": "#2a3f5f"
            },
            "error_y": {
             "color": "#2a3f5f"
            },
            "marker": {
             "line": {
              "color": "#E5ECF6",
              "width": 0.5
             }
            },
            "type": "bar"
           }
          ],
          "barpolar": [
           {
            "marker": {
             "line": {
              "color": "#E5ECF6",
              "width": 0.5
             }
            },
            "type": "barpolar"
           }
          ],
          "carpet": [
           {
            "aaxis": {
             "endlinecolor": "#2a3f5f",
             "gridcolor": "white",
             "linecolor": "white",
             "minorgridcolor": "white",
             "startlinecolor": "#2a3f5f"
            },
            "baxis": {
             "endlinecolor": "#2a3f5f",
             "gridcolor": "white",
             "linecolor": "white",
             "minorgridcolor": "white",
             "startlinecolor": "#2a3f5f"
            },
            "type": "carpet"
           }
          ],
          "choropleth": [
           {
            "colorbar": {
             "outlinewidth": 0,
             "ticks": ""
            },
            "type": "choropleth"
           }
          ],
          "contour": [
           {
            "colorbar": {
             "outlinewidth": 0,
             "ticks": ""
            },
            "colorscale": [
             [
              0,
              "#0d0887"
             ],
             [
              0.1111111111111111,
              "#46039f"
             ],
             [
              0.2222222222222222,
              "#7201a8"
             ],
             [
              0.3333333333333333,
              "#9c179e"
             ],
             [
              0.4444444444444444,
              "#bd3786"
             ],
             [
              0.5555555555555556,
              "#d8576b"
             ],
             [
              0.6666666666666666,
              "#ed7953"
             ],
             [
              0.7777777777777778,
              "#fb9f3a"
             ],
             [
              0.8888888888888888,
              "#fdca26"
             ],
             [
              1,
              "#f0f921"
             ]
            ],
            "type": "contour"
           }
          ],
          "contourcarpet": [
           {
            "colorbar": {
             "outlinewidth": 0,
             "ticks": ""
            },
            "type": "contourcarpet"
           }
          ],
          "heatmap": [
           {
            "colorbar": {
             "outlinewidth": 0,
             "ticks": ""
            },
            "colorscale": [
             [
              0,
              "#0d0887"
             ],
             [
              0.1111111111111111,
              "#46039f"
             ],
             [
              0.2222222222222222,
              "#7201a8"
             ],
             [
              0.3333333333333333,
              "#9c179e"
             ],
             [
              0.4444444444444444,
              "#bd3786"
             ],
             [
              0.5555555555555556,
              "#d8576b"
             ],
             [
              0.6666666666666666,
              "#ed7953"
             ],
             [
              0.7777777777777778,
              "#fb9f3a"
             ],
             [
              0.8888888888888888,
              "#fdca26"
             ],
             [
              1,
              "#f0f921"
             ]
            ],
            "type": "heatmap"
           }
          ],
          "heatmapgl": [
           {
            "colorbar": {
             "outlinewidth": 0,
             "ticks": ""
            },
            "colorscale": [
             [
              0,
              "#0d0887"
             ],
             [
              0.1111111111111111,
              "#46039f"
             ],
             [
              0.2222222222222222,
              "#7201a8"
             ],
             [
              0.3333333333333333,
              "#9c179e"
             ],
             [
              0.4444444444444444,
              "#bd3786"
             ],
             [
              0.5555555555555556,
              "#d8576b"
             ],
             [
              0.6666666666666666,
              "#ed7953"
             ],
             [
              0.7777777777777778,
              "#fb9f3a"
             ],
             [
              0.8888888888888888,
              "#fdca26"
             ],
             [
              1,
              "#f0f921"
             ]
            ],
            "type": "heatmapgl"
           }
          ],
          "histogram": [
           {
            "marker": {
             "colorbar": {
              "outlinewidth": 0,
              "ticks": ""
             }
            },
            "type": "histogram"
           }
          ],
          "histogram2d": [
           {
            "colorbar": {
             "outlinewidth": 0,
             "ticks": ""
            },
            "colorscale": [
             [
              0,
              "#0d0887"
             ],
             [
              0.1111111111111111,
              "#46039f"
             ],
             [
              0.2222222222222222,
              "#7201a8"
             ],
             [
              0.3333333333333333,
              "#9c179e"
             ],
             [
              0.4444444444444444,
              "#bd3786"
             ],
             [
              0.5555555555555556,
              "#d8576b"
             ],
             [
              0.6666666666666666,
              "#ed7953"
             ],
             [
              0.7777777777777778,
              "#fb9f3a"
             ],
             [
              0.8888888888888888,
              "#fdca26"
             ],
             [
              1,
              "#f0f921"
             ]
            ],
            "type": "histogram2d"
           }
          ],
          "histogram2dcontour": [
           {
            "colorbar": {
             "outlinewidth": 0,
             "ticks": ""
            },
            "colorscale": [
             [
              0,
              "#0d0887"
             ],
             [
              0.1111111111111111,
              "#46039f"
             ],
             [
              0.2222222222222222,
              "#7201a8"
             ],
             [
              0.3333333333333333,
              "#9c179e"
             ],
             [
              0.4444444444444444,
              "#bd3786"
             ],
             [
              0.5555555555555556,
              "#d8576b"
             ],
             [
              0.6666666666666666,
              "#ed7953"
             ],
             [
              0.7777777777777778,
              "#fb9f3a"
             ],
             [
              0.8888888888888888,
              "#fdca26"
             ],
             [
              1,
              "#f0f921"
             ]
            ],
            "type": "histogram2dcontour"
           }
          ],
          "mesh3d": [
           {
            "colorbar": {
             "outlinewidth": 0,
             "ticks": ""
            },
            "type": "mesh3d"
           }
          ],
          "parcoords": [
           {
            "line": {
             "colorbar": {
              "outlinewidth": 0,
              "ticks": ""
             }
            },
            "type": "parcoords"
           }
          ],
          "pie": [
           {
            "automargin": true,
            "type": "pie"
           }
          ],
          "scatter": [
           {
            "marker": {
             "colorbar": {
              "outlinewidth": 0,
              "ticks": ""
             }
            },
            "type": "scatter"
           }
          ],
          "scatter3d": [
           {
            "line": {
             "colorbar": {
              "outlinewidth": 0,
              "ticks": ""
             }
            },
            "marker": {
             "colorbar": {
              "outlinewidth": 0,
              "ticks": ""
             }
            },
            "type": "scatter3d"
           }
          ],
          "scattercarpet": [
           {
            "marker": {
             "colorbar": {
              "outlinewidth": 0,
              "ticks": ""
             }
            },
            "type": "scattercarpet"
           }
          ],
          "scattergeo": [
           {
            "marker": {
             "colorbar": {
              "outlinewidth": 0,
              "ticks": ""
             }
            },
            "type": "scattergeo"
           }
          ],
          "scattergl": [
           {
            "marker": {
             "colorbar": {
              "outlinewidth": 0,
              "ticks": ""
             }
            },
            "type": "scattergl"
           }
          ],
          "scattermapbox": [
           {
            "marker": {
             "colorbar": {
              "outlinewidth": 0,
              "ticks": ""
             }
            },
            "type": "scattermapbox"
           }
          ],
          "scatterpolar": [
           {
            "marker": {
             "colorbar": {
              "outlinewidth": 0,
              "ticks": ""
             }
            },
            "type": "scatterpolar"
           }
          ],
          "scatterpolargl": [
           {
            "marker": {
             "colorbar": {
              "outlinewidth": 0,
              "ticks": ""
             }
            },
            "type": "scatterpolargl"
           }
          ],
          "scatterternary": [
           {
            "marker": {
             "colorbar": {
              "outlinewidth": 0,
              "ticks": ""
             }
            },
            "type": "scatterternary"
           }
          ],
          "surface": [
           {
            "colorbar": {
             "outlinewidth": 0,
             "ticks": ""
            },
            "colorscale": [
             [
              0,
              "#0d0887"
             ],
             [
              0.1111111111111111,
              "#46039f"
             ],
             [
              0.2222222222222222,
              "#7201a8"
             ],
             [
              0.3333333333333333,
              "#9c179e"
             ],
             [
              0.4444444444444444,
              "#bd3786"
             ],
             [
              0.5555555555555556,
              "#d8576b"
             ],
             [
              0.6666666666666666,
              "#ed7953"
             ],
             [
              0.7777777777777778,
              "#fb9f3a"
             ],
             [
              0.8888888888888888,
              "#fdca26"
             ],
             [
              1,
              "#f0f921"
             ]
            ],
            "type": "surface"
           }
          ],
          "table": [
           {
            "cells": {
             "fill": {
              "color": "#EBF0F8"
             },
             "line": {
              "color": "white"
             }
            },
            "header": {
             "fill": {
              "color": "#C8D4E3"
             },
             "line": {
              "color": "white"
             }
            },
            "type": "table"
           }
          ]
         },
         "layout": {
          "annotationdefaults": {
           "arrowcolor": "#2a3f5f",
           "arrowhead": 0,
           "arrowwidth": 1
          },
          "coloraxis": {
           "colorbar": {
            "outlinewidth": 0,
            "ticks": ""
           }
          },
          "colorscale": {
           "diverging": [
            [
             0,
             "#8e0152"
            ],
            [
             0.1,
             "#c51b7d"
            ],
            [
             0.2,
             "#de77ae"
            ],
            [
             0.3,
             "#f1b6da"
            ],
            [
             0.4,
             "#fde0ef"
            ],
            [
             0.5,
             "#f7f7f7"
            ],
            [
             0.6,
             "#e6f5d0"
            ],
            [
             0.7,
             "#b8e186"
            ],
            [
             0.8,
             "#7fbc41"
            ],
            [
             0.9,
             "#4d9221"
            ],
            [
             1,
             "#276419"
            ]
           ],
           "sequential": [
            [
             0,
             "#0d0887"
            ],
            [
             0.1111111111111111,
             "#46039f"
            ],
            [
             0.2222222222222222,
             "#7201a8"
            ],
            [
             0.3333333333333333,
             "#9c179e"
            ],
            [
             0.4444444444444444,
             "#bd3786"
            ],
            [
             0.5555555555555556,
             "#d8576b"
            ],
            [
             0.6666666666666666,
             "#ed7953"
            ],
            [
             0.7777777777777778,
             "#fb9f3a"
            ],
            [
             0.8888888888888888,
             "#fdca26"
            ],
            [
             1,
             "#f0f921"
            ]
           ],
           "sequentialminus": [
            [
             0,
             "#0d0887"
            ],
            [
             0.1111111111111111,
             "#46039f"
            ],
            [
             0.2222222222222222,
             "#7201a8"
            ],
            [
             0.3333333333333333,
             "#9c179e"
            ],
            [
             0.4444444444444444,
             "#bd3786"
            ],
            [
             0.5555555555555556,
             "#d8576b"
            ],
            [
             0.6666666666666666,
             "#ed7953"
            ],
            [
             0.7777777777777778,
             "#fb9f3a"
            ],
            [
             0.8888888888888888,
             "#fdca26"
            ],
            [
             1,
             "#f0f921"
            ]
           ]
          },
          "colorway": [
           "#636efa",
           "#EF553B",
           "#00cc96",
           "#ab63fa",
           "#FFA15A",
           "#19d3f3",
           "#FF6692",
           "#B6E880",
           "#FF97FF",
           "#FECB52"
          ],
          "font": {
           "color": "#2a3f5f"
          },
          "geo": {
           "bgcolor": "white",
           "lakecolor": "white",
           "landcolor": "#E5ECF6",
           "showlakes": true,
           "showland": true,
           "subunitcolor": "white"
          },
          "hoverlabel": {
           "align": "left"
          },
          "hovermode": "closest",
          "mapbox": {
           "style": "light"
          },
          "paper_bgcolor": "white",
          "plot_bgcolor": "#E5ECF6",
          "polar": {
           "angularaxis": {
            "gridcolor": "white",
            "linecolor": "white",
            "ticks": ""
           },
           "bgcolor": "#E5ECF6",
           "radialaxis": {
            "gridcolor": "white",
            "linecolor": "white",
            "ticks": ""
           }
          },
          "scene": {
           "xaxis": {
            "backgroundcolor": "#E5ECF6",
            "gridcolor": "white",
            "gridwidth": 2,
            "linecolor": "white",
            "showbackground": true,
            "ticks": "",
            "zerolinecolor": "white"
           },
           "yaxis": {
            "backgroundcolor": "#E5ECF6",
            "gridcolor": "white",
            "gridwidth": 2,
            "linecolor": "white",
            "showbackground": true,
            "ticks": "",
            "zerolinecolor": "white"
           },
           "zaxis": {
            "backgroundcolor": "#E5ECF6",
            "gridcolor": "white",
            "gridwidth": 2,
            "linecolor": "white",
            "showbackground": true,
            "ticks": "",
            "zerolinecolor": "white"
           }
          },
          "shapedefaults": {
           "line": {
            "color": "#2a3f5f"
           }
          },
          "ternary": {
           "aaxis": {
            "gridcolor": "white",
            "linecolor": "white",
            "ticks": ""
           },
           "baxis": {
            "gridcolor": "white",
            "linecolor": "white",
            "ticks": ""
           },
           "bgcolor": "#E5ECF6",
           "caxis": {
            "gridcolor": "white",
            "linecolor": "white",
            "ticks": ""
           }
          },
          "title": {
           "x": 0.05
          },
          "xaxis": {
           "automargin": true,
           "gridcolor": "white",
           "linecolor": "white",
           "ticks": "",
           "title": {
            "standoff": 15
           },
           "zerolinecolor": "white",
           "zerolinewidth": 2
          },
          "yaxis": {
           "automargin": true,
           "gridcolor": "white",
           "linecolor": "white",
           "ticks": "",
           "title": {
            "standoff": 15
           },
           "zerolinecolor": "white",
           "zerolinewidth": 2
          }
         }
        },
        "title": {
         "text": "Проценты разных компаний в зависимости от года"
        },
        "xaxis": {
         "anchor": "y",
         "domain": [
          0,
          1
         ],
         "title": {
          "text": "Год"
         }
        },
        "yaxis": {
         "anchor": "x",
         "domain": [
          0,
          1
         ],
         "title": {
          "text": "Процент от общего кол-ва"
         }
        }
       }
      },
      "text/html": [
       "<div>\n",
       "        \n",
       "        \n",
       "            <div id=\"acd295ea-eb22-4ae6-83f7-842b1a16c2f8\" class=\"plotly-graph-div\" style=\"height:525px; width:100%;\"></div>\n",
       "            <script type=\"text/javascript\">\n",
       "                require([\"plotly\"], function(Plotly) {\n",
       "                    window.PLOTLYENV=window.PLOTLYENV || {};\n",
       "                    \n",
       "                if (document.getElementById(\"acd295ea-eb22-4ae6-83f7-842b1a16c2f8\")) {\n",
       "                    Plotly.newPlot(\n",
       "                        'acd295ea-eb22-4ae6-83f7-842b1a16c2f8',\n",
       "                        [{\"hovertemplate\": \"\\u041a\\u043e\\u043c\\u043f\\u0430\\u043d\\u0438\\u044f=Warner Bros.<br>\\u0413\\u043e\\u0434=%{x}<br>\\u041f\\u0440\\u043e\\u0446\\u0435\\u043d\\u0442 \\u043e\\u0442 \\u043e\\u0431\\u0449\\u0435\\u0433\\u043e \\u043a\\u043e\\u043b-\\u0432\\u0430=%{y}<extra></extra>\", \"legendgroup\": \"Warner Bros.\", \"marker\": {\"color\": \"#636efa\", \"symbol\": \"circle\"}, \"mode\": \"markers\", \"name\": \"Warner Bros.\", \"showlegend\": true, \"type\": \"scatter\", \"x\": [1995, 1996, 1997, 1998, 1999, 2000, 2001, 2002, 2003, 2004, 2005, 2006, 2007, 2008, 2009, 2010, 2011, 2012, 2013, 2014, 2015, 2016, 2017, 2018, 2019], \"xaxis\": \"x\", \"y\": [\"16.31%\", \"15.77%\", \"10.55%\", \"11.20%\", \"14.21%\", \"11.80%\", \"14.75%\", \"11.60%\", \"12.64%\", \"13.34%\", \"15.62%\", \"11.63%\", \"14.68%\", \"18.32%\", \"20.03%\", \"17.97%\", \"17.98%\", \"15.28%\", \"17.07%\", \"15.21%\", \"14.06%\", \"16.95%\", \"18.51%\", \"16.18%\", \"13.91%\"], \"yaxis\": \"y\"}, {\"hovertemplate\": \"\\u041a\\u043e\\u043c\\u043f\\u0430\\u043d\\u0438\\u044f=Sony Pictures<br>\\u0413\\u043e\\u0434=%{x}<br>\\u041f\\u0440\\u043e\\u0446\\u0435\\u043d\\u0442 \\u043e\\u0442 \\u043e\\u0431\\u0449\\u0435\\u0433\\u043e \\u043a\\u043e\\u043b-\\u0432\\u0430=%{y}<extra></extra>\", \"legendgroup\": \"Sony Pictures\", \"marker\": {\"color\": \"#EF553B\", \"symbol\": \"circle\"}, \"mode\": \"markers\", \"name\": \"Sony Pictures\", \"showlegend\": true, \"type\": \"scatter\", \"x\": [1995, 1996, 1997, 1998, 1999, 2000, 2001, 2002, 2003, 2004, 2005, 2006, 2007, 2008, 2009, 2010, 2011, 2012, 2013, 2014, 2015, 2016, 2017, 2018, 2019], \"xaxis\": \"x\", \"y\": [\"12.84%\", \"10.63%\", \"19.96%\", \"10.11%\", \"8.70%\", \"9.06%\", \"8.75%\", \"16.97%\", \"13.22%\", \"14.26%\", \"10.32%\", \"18.56%\", \"12.94%\", \"12.99%\", \"13.61%\", \"12.26%\", \"12.49%\", \"16.34%\", \"10.61%\", \"12.25%\", \"8.65%\", \"8.09%\", \"9.63%\", \"11.17%\", \"12.18%\"], \"yaxis\": \"y\"}, {\"hovertemplate\": \"\\u041a\\u043e\\u043c\\u043f\\u0430\\u043d\\u0438\\u044f=Walt Disney<br>\\u0413\\u043e\\u0434=%{x}<br>\\u041f\\u0440\\u043e\\u0446\\u0435\\u043d\\u0442 \\u043e\\u0442 \\u043e\\u0431\\u0449\\u0435\\u0433\\u043e \\u043a\\u043e\\u043b-\\u0432\\u0430=%{y}<extra></extra>\", \"legendgroup\": \"Walt Disney\", \"marker\": {\"color\": \"#00cc96\", \"symbol\": \"circle\"}, \"mode\": \"markers\", \"name\": \"Walt Disney\", \"showlegend\": true, \"type\": \"scatter\", \"x\": [1995, 1996, 1997, 1998, 1999, 2000, 2001, 2002, 2003, 2004, 2005, 2006, 2007, 2008, 2009, 2010, 2011, 2012, 2013, 2014, 2015, 2016, 2017, 2018, 2019], \"xaxis\": \"x\", \"y\": [\"19.04%\", \"20.76%\", \"13.93%\", \"16.38%\", \"16.95%\", \"14.75%\", \"10.79%\", \"12.84%\", \"16.56%\", \"12.46%\", \"10.44%\", \"16.20%\", \"14.41%\", \"10.26%\", \"11.33%\", \"13.98%\", \"12.04%\", \"14.25%\", \"15.97%\", \"15.59%\", \"20.98%\", \"26.07%\", \"21.74%\", \"26.24%\", \"33.15%\"], \"yaxis\": \"y\"}, {\"hovertemplate\": \"\\u041a\\u043e\\u043c\\u043f\\u0430\\u043d\\u0438\\u044f=Universal<br>\\u0413\\u043e\\u0434=%{x}<br>\\u041f\\u0440\\u043e\\u0446\\u0435\\u043d\\u0442 \\u043e\\u0442 \\u043e\\u0431\\u0449\\u0435\\u0433\\u043e \\u043a\\u043e\\u043b-\\u0432\\u0430=%{y}<extra></extra>\", \"legendgroup\": \"Universal\", \"marker\": {\"color\": \"#ab63fa\", \"symbol\": \"circle\"}, \"mode\": \"markers\", \"name\": \"Universal\", \"showlegend\": true, \"type\": \"scatter\", \"x\": [1995, 1996, 1997, 1998, 1999, 2000, 2001, 2002, 2003, 2004, 2005, 2006, 2007, 2008, 2009, 2010, 2011, 2012, 2013, 2014, 2015, 2016, 2017, 2018, 2019], \"xaxis\": \"x\", \"y\": [\"12.54%\", \"8.36%\", \"9.67%\", \"5.92%\", \"12.73%\", \"14.22%\", \"11.36%\", \"9.67%\", \"11.83%\", \"9.76%\", \"11.27%\", \"8.79%\", \"11.28%\", \"11.02%\", \"8.44%\", \"8.45%\", \"10.08%\", \"12.45%\", \"12.83%\", \"10.74%\", \"22.04%\", \"12.61%\", \"13.77%\", \"14.80%\", \"11.55%\"], \"yaxis\": \"y\"}, {\"hovertemplate\": \"\\u041a\\u043e\\u043c\\u043f\\u0430\\u043d\\u0438\\u044f=20th Century Fox<br>\\u0413\\u043e\\u0434=%{x}<br>\\u041f\\u0440\\u043e\\u0446\\u0435\\u043d\\u0442 \\u043e\\u0442 \\u043e\\u0431\\u0449\\u0435\\u0433\\u043e \\u043a\\u043e\\u043b-\\u0432\\u0430=%{y}<extra></extra>\", \"legendgroup\": \"20th Century Fox\", \"marker\": {\"color\": \"#FFA15A\", \"symbol\": \"circle\"}, \"mode\": \"markers\", \"name\": \"20th Century Fox\", \"showlegend\": true, \"type\": \"scatter\", \"x\": [1995, 1996, 1997, 1998, 1999, 2000, 2001, 2002, 2003, 2004, 2005, 2006, 2007, 2008, 2009, 2010, 2011, 2012, 2013, 2014, 2015, 2016, 2017, 2018, 2019], \"xaxis\": \"x\", \"y\": [\"7.73%\", \"12.67%\", \"10.13%\", \"10.78%\", \"10.91%\", \"9.70%\", \"10.33%\", \"10.72%\", \"8.69%\", \"9.86%\", \"15.37%\", \"15.18%\", \"10.51%\", \"10.75%\", \"13.72%\", \"13.28%\", \"9.66%\", \"9.37%\", \"9.82%\", \"17.22%\", \"11.68%\", \"13.05%\", \"12.06%\", \"9.13%\", \"4.36%\"], \"yaxis\": \"y\"}],\n",
       "                        {\"legend\": {\"title\": {\"text\": \"\\u041a\\u043e\\u043c\\u043f\\u0430\\u043d\\u0438\\u044f\"}, \"tracegroupgap\": 0}, \"template\": {\"data\": {\"bar\": [{\"error_x\": {\"color\": \"#2a3f5f\"}, \"error_y\": {\"color\": \"#2a3f5f\"}, \"marker\": {\"line\": {\"color\": \"#E5ECF6\", \"width\": 0.5}}, \"type\": \"bar\"}], \"barpolar\": [{\"marker\": {\"line\": {\"color\": \"#E5ECF6\", \"width\": 0.5}}, \"type\": \"barpolar\"}], \"carpet\": [{\"aaxis\": {\"endlinecolor\": \"#2a3f5f\", \"gridcolor\": \"white\", \"linecolor\": \"white\", \"minorgridcolor\": \"white\", \"startlinecolor\": \"#2a3f5f\"}, \"baxis\": {\"endlinecolor\": \"#2a3f5f\", \"gridcolor\": \"white\", \"linecolor\": \"white\", \"minorgridcolor\": \"white\", \"startlinecolor\": \"#2a3f5f\"}, \"type\": \"carpet\"}], \"choropleth\": [{\"colorbar\": {\"outlinewidth\": 0, \"ticks\": \"\"}, \"type\": \"choropleth\"}], \"contour\": [{\"colorbar\": {\"outlinewidth\": 0, \"ticks\": \"\"}, \"colorscale\": [[0.0, \"#0d0887\"], [0.1111111111111111, \"#46039f\"], [0.2222222222222222, \"#7201a8\"], [0.3333333333333333, \"#9c179e\"], [0.4444444444444444, \"#bd3786\"], [0.5555555555555556, \"#d8576b\"], [0.6666666666666666, \"#ed7953\"], [0.7777777777777778, \"#fb9f3a\"], [0.8888888888888888, \"#fdca26\"], [1.0, \"#f0f921\"]], \"type\": \"contour\"}], \"contourcarpet\": [{\"colorbar\": {\"outlinewidth\": 0, \"ticks\": \"\"}, \"type\": \"contourcarpet\"}], \"heatmap\": [{\"colorbar\": {\"outlinewidth\": 0, \"ticks\": \"\"}, \"colorscale\": [[0.0, \"#0d0887\"], [0.1111111111111111, \"#46039f\"], [0.2222222222222222, \"#7201a8\"], [0.3333333333333333, \"#9c179e\"], [0.4444444444444444, \"#bd3786\"], [0.5555555555555556, \"#d8576b\"], [0.6666666666666666, \"#ed7953\"], [0.7777777777777778, \"#fb9f3a\"], [0.8888888888888888, \"#fdca26\"], [1.0, \"#f0f921\"]], \"type\": \"heatmap\"}], \"heatmapgl\": [{\"colorbar\": {\"outlinewidth\": 0, \"ticks\": \"\"}, \"colorscale\": [[0.0, \"#0d0887\"], [0.1111111111111111, \"#46039f\"], [0.2222222222222222, \"#7201a8\"], [0.3333333333333333, \"#9c179e\"], [0.4444444444444444, \"#bd3786\"], [0.5555555555555556, \"#d8576b\"], [0.6666666666666666, \"#ed7953\"], [0.7777777777777778, \"#fb9f3a\"], [0.8888888888888888, \"#fdca26\"], [1.0, \"#f0f921\"]], \"type\": \"heatmapgl\"}], \"histogram\": [{\"marker\": {\"colorbar\": {\"outlinewidth\": 0, \"ticks\": \"\"}}, \"type\": \"histogram\"}], \"histogram2d\": [{\"colorbar\": {\"outlinewidth\": 0, \"ticks\": \"\"}, \"colorscale\": [[0.0, \"#0d0887\"], [0.1111111111111111, \"#46039f\"], [0.2222222222222222, \"#7201a8\"], [0.3333333333333333, \"#9c179e\"], [0.4444444444444444, \"#bd3786\"], [0.5555555555555556, \"#d8576b\"], [0.6666666666666666, \"#ed7953\"], [0.7777777777777778, \"#fb9f3a\"], [0.8888888888888888, \"#fdca26\"], [1.0, \"#f0f921\"]], \"type\": \"histogram2d\"}], \"histogram2dcontour\": [{\"colorbar\": {\"outlinewidth\": 0, \"ticks\": \"\"}, \"colorscale\": [[0.0, \"#0d0887\"], [0.1111111111111111, \"#46039f\"], [0.2222222222222222, \"#7201a8\"], [0.3333333333333333, \"#9c179e\"], [0.4444444444444444, \"#bd3786\"], [0.5555555555555556, \"#d8576b\"], [0.6666666666666666, \"#ed7953\"], [0.7777777777777778, \"#fb9f3a\"], [0.8888888888888888, \"#fdca26\"], [1.0, \"#f0f921\"]], \"type\": \"histogram2dcontour\"}], \"mesh3d\": [{\"colorbar\": {\"outlinewidth\": 0, \"ticks\": \"\"}, \"type\": \"mesh3d\"}], \"parcoords\": [{\"line\": {\"colorbar\": {\"outlinewidth\": 0, \"ticks\": \"\"}}, \"type\": \"parcoords\"}], \"pie\": [{\"automargin\": true, \"type\": \"pie\"}], \"scatter\": [{\"marker\": {\"colorbar\": {\"outlinewidth\": 0, \"ticks\": \"\"}}, \"type\": \"scatter\"}], \"scatter3d\": [{\"line\": {\"colorbar\": {\"outlinewidth\": 0, \"ticks\": \"\"}}, \"marker\": {\"colorbar\": {\"outlinewidth\": 0, \"ticks\": \"\"}}, \"type\": \"scatter3d\"}], \"scattercarpet\": [{\"marker\": {\"colorbar\": {\"outlinewidth\": 0, \"ticks\": \"\"}}, \"type\": \"scattercarpet\"}], \"scattergeo\": [{\"marker\": {\"colorbar\": {\"outlinewidth\": 0, \"ticks\": \"\"}}, \"type\": \"scattergeo\"}], \"scattergl\": [{\"marker\": {\"colorbar\": {\"outlinewidth\": 0, \"ticks\": \"\"}}, \"type\": \"scattergl\"}], \"scattermapbox\": [{\"marker\": {\"colorbar\": {\"outlinewidth\": 0, \"ticks\": \"\"}}, \"type\": \"scattermapbox\"}], \"scatterpolar\": [{\"marker\": {\"colorbar\": {\"outlinewidth\": 0, \"ticks\": \"\"}}, \"type\": \"scatterpolar\"}], \"scatterpolargl\": [{\"marker\": {\"colorbar\": {\"outlinewidth\": 0, \"ticks\": \"\"}}, \"type\": \"scatterpolargl\"}], \"scatterternary\": [{\"marker\": {\"colorbar\": {\"outlinewidth\": 0, \"ticks\": \"\"}}, \"type\": \"scatterternary\"}], \"surface\": [{\"colorbar\": {\"outlinewidth\": 0, \"ticks\": \"\"}, \"colorscale\": [[0.0, \"#0d0887\"], [0.1111111111111111, \"#46039f\"], [0.2222222222222222, \"#7201a8\"], [0.3333333333333333, \"#9c179e\"], [0.4444444444444444, \"#bd3786\"], [0.5555555555555556, \"#d8576b\"], [0.6666666666666666, \"#ed7953\"], [0.7777777777777778, \"#fb9f3a\"], [0.8888888888888888, \"#fdca26\"], [1.0, \"#f0f921\"]], \"type\": \"surface\"}], \"table\": [{\"cells\": {\"fill\": {\"color\": \"#EBF0F8\"}, \"line\": {\"color\": \"white\"}}, \"header\": {\"fill\": {\"color\": \"#C8D4E3\"}, \"line\": {\"color\": \"white\"}}, \"type\": \"table\"}]}, \"layout\": {\"annotationdefaults\": {\"arrowcolor\": \"#2a3f5f\", \"arrowhead\": 0, \"arrowwidth\": 1}, \"coloraxis\": {\"colorbar\": {\"outlinewidth\": 0, \"ticks\": \"\"}}, \"colorscale\": {\"diverging\": [[0, \"#8e0152\"], [0.1, \"#c51b7d\"], [0.2, \"#de77ae\"], [0.3, \"#f1b6da\"], [0.4, \"#fde0ef\"], [0.5, \"#f7f7f7\"], [0.6, \"#e6f5d0\"], [0.7, \"#b8e186\"], [0.8, \"#7fbc41\"], [0.9, \"#4d9221\"], [1, \"#276419\"]], \"sequential\": [[0.0, \"#0d0887\"], [0.1111111111111111, \"#46039f\"], [0.2222222222222222, \"#7201a8\"], [0.3333333333333333, \"#9c179e\"], [0.4444444444444444, \"#bd3786\"], [0.5555555555555556, \"#d8576b\"], [0.6666666666666666, \"#ed7953\"], [0.7777777777777778, \"#fb9f3a\"], [0.8888888888888888, \"#fdca26\"], [1.0, \"#f0f921\"]], \"sequentialminus\": [[0.0, \"#0d0887\"], [0.1111111111111111, \"#46039f\"], [0.2222222222222222, \"#7201a8\"], [0.3333333333333333, \"#9c179e\"], [0.4444444444444444, \"#bd3786\"], [0.5555555555555556, \"#d8576b\"], [0.6666666666666666, \"#ed7953\"], [0.7777777777777778, \"#fb9f3a\"], [0.8888888888888888, \"#fdca26\"], [1.0, \"#f0f921\"]]}, \"colorway\": [\"#636efa\", \"#EF553B\", \"#00cc96\", \"#ab63fa\", \"#FFA15A\", \"#19d3f3\", \"#FF6692\", \"#B6E880\", \"#FF97FF\", \"#FECB52\"], \"font\": {\"color\": \"#2a3f5f\"}, \"geo\": {\"bgcolor\": \"white\", \"lakecolor\": \"white\", \"landcolor\": \"#E5ECF6\", \"showlakes\": true, \"showland\": true, \"subunitcolor\": \"white\"}, \"hoverlabel\": {\"align\": \"left\"}, \"hovermode\": \"closest\", \"mapbox\": {\"style\": \"light\"}, \"paper_bgcolor\": \"white\", \"plot_bgcolor\": \"#E5ECF6\", \"polar\": {\"angularaxis\": {\"gridcolor\": \"white\", \"linecolor\": \"white\", \"ticks\": \"\"}, \"bgcolor\": \"#E5ECF6\", \"radialaxis\": {\"gridcolor\": \"white\", \"linecolor\": \"white\", \"ticks\": \"\"}}, \"scene\": {\"xaxis\": {\"backgroundcolor\": \"#E5ECF6\", \"gridcolor\": \"white\", \"gridwidth\": 2, \"linecolor\": \"white\", \"showbackground\": true, \"ticks\": \"\", \"zerolinecolor\": \"white\"}, \"yaxis\": {\"backgroundcolor\": \"#E5ECF6\", \"gridcolor\": \"white\", \"gridwidth\": 2, \"linecolor\": \"white\", \"showbackground\": true, \"ticks\": \"\", \"zerolinecolor\": \"white\"}, \"zaxis\": {\"backgroundcolor\": \"#E5ECF6\", \"gridcolor\": \"white\", \"gridwidth\": 2, \"linecolor\": \"white\", \"showbackground\": true, \"ticks\": \"\", \"zerolinecolor\": \"white\"}}, \"shapedefaults\": {\"line\": {\"color\": \"#2a3f5f\"}}, \"ternary\": {\"aaxis\": {\"gridcolor\": \"white\", \"linecolor\": \"white\", \"ticks\": \"\"}, \"baxis\": {\"gridcolor\": \"white\", \"linecolor\": \"white\", \"ticks\": \"\"}, \"bgcolor\": \"#E5ECF6\", \"caxis\": {\"gridcolor\": \"white\", \"linecolor\": \"white\", \"ticks\": \"\"}}, \"title\": {\"x\": 0.05}, \"xaxis\": {\"automargin\": true, \"gridcolor\": \"white\", \"linecolor\": \"white\", \"ticks\": \"\", \"title\": {\"standoff\": 15}, \"zerolinecolor\": \"white\", \"zerolinewidth\": 2}, \"yaxis\": {\"automargin\": true, \"gridcolor\": \"white\", \"linecolor\": \"white\", \"ticks\": \"\", \"title\": {\"standoff\": 15}, \"zerolinecolor\": \"white\", \"zerolinewidth\": 2}}}, \"title\": {\"text\": \"\\u041f\\u0440\\u043e\\u0446\\u0435\\u043d\\u0442\\u044b \\u0440\\u0430\\u0437\\u043d\\u044b\\u0445 \\u043a\\u043e\\u043c\\u043f\\u0430\\u043d\\u0438\\u0439 \\u0432 \\u0437\\u0430\\u0432\\u0438\\u0441\\u0438\\u043c\\u043e\\u0441\\u0442\\u0438 \\u043e\\u0442 \\u0433\\u043e\\u0434\\u0430\"}, \"xaxis\": {\"anchor\": \"y\", \"domain\": [0.0, 1.0], \"title\": {\"text\": \"\\u0413\\u043e\\u0434\"}}, \"yaxis\": {\"anchor\": \"x\", \"domain\": [0.0, 1.0], \"title\": {\"text\": \"\\u041f\\u0440\\u043e\\u0446\\u0435\\u043d\\u0442 \\u043e\\u0442 \\u043e\\u0431\\u0449\\u0435\\u0433\\u043e \\u043a\\u043e\\u043b-\\u0432\\u0430\"}}},\n",
       "                        {\"responsive\": true}\n",
       "                    ).then(function(){\n",
       "                            \n",
       "var gd = document.getElementById('acd295ea-eb22-4ae6-83f7-842b1a16c2f8');\n",
       "var x = new MutationObserver(function (mutations, observer) {{\n",
       "        var display = window.getComputedStyle(gd).display;\n",
       "        if (!display || display === 'none') {{\n",
       "            console.log([gd, 'removed!']);\n",
       "            Plotly.purge(gd);\n",
       "            observer.disconnect();\n",
       "        }}\n",
       "}});\n",
       "\n",
       "// Listen for the removal of the full notebook cells\n",
       "var notebookContainer = gd.closest('#notebook-container');\n",
       "if (notebookContainer) {{\n",
       "    x.observe(notebookContainer, {childList: true});\n",
       "}}\n",
       "\n",
       "// Listen for the clearing of the current output cell\n",
       "var outputEl = gd.closest('.output');\n",
       "if (outputEl) {{\n",
       "    x.observe(outputEl, {childList: true});\n",
       "}}\n",
       "\n",
       "                        })\n",
       "                };\n",
       "                });\n",
       "            </script>\n",
       "        </div>"
      ]
     },
     "metadata": {},
     "output_type": "display_data"
    }
   ],
   "source": [
    "dff1 = df.loc[df['Компания'] == 'Warner Bros.']\n",
    "dff2 = df.loc[df['Компания'] == 'Sony Pictures']\n",
    "dff3 = df.loc[df['Компания'] == 'Walt Disney']\n",
    "dff4 = df.loc[df['Компания'] == 'Universal']\n",
    "dff5 = df.loc[df['Компания'] == 'Paramount Pictures\t']\n",
    "dff6 = df.loc[df['Компания'] == '20th Century Fox']\n",
    " \n",
    "res1 = pd.concat([dff1, dff2], ignore_index=True)\n",
    "res2 = pd.concat([res1, dff3], ignore_index=True)\n",
    "res3 = pd.concat([res2, dff4], ignore_index=True)\n",
    "res4 = pd.concat([res3, dff5], ignore_index=True)\n",
    "res4 = pd.concat([res4, dff6], ignore_index=True)\n",
    "    \n",
    "px.scatter(res4, \n",
    "        title='Проценты разных компаний в зависимости от года',\n",
    "        x='Год', \n",
    "        y='Процент от общего кол-ва', \n",
    "          color = 'Компания')"
   ]
  },
  {
   "cell_type": "code",
   "execution_count": null,
   "metadata": {},
   "outputs": [],
   "source": []
  }
 ],
 "metadata": {
  "kernelspec": {
   "display_name": "Python 3",
   "language": "python",
   "name": "python3"
  },
  "language_info": {
   "codemirror_mode": {
    "name": "ipython",
    "version": 3
   },
   "file_extension": ".py",
   "mimetype": "text/x-python",
   "name": "python",
   "nbconvert_exporter": "python",
   "pygments_lexer": "ipython3",
   "version": "3.7.4"
  }
 },
 "nbformat": 4,
 "nbformat_minor": 2
}
